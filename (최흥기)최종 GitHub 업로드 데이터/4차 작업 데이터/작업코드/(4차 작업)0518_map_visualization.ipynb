{
 "cells": [
  {
   "cell_type": "markdown",
   "id": "0558bfba-5ebe-4a61-9b39-3d13b9f0cceb",
   "metadata": {},
   "source": [
    "# UI 제작"
   ]
  },
  {
   "cell_type": "markdown",
   "id": "8e781cb3-3bda-4aab-a4ff-ef918322ad5e",
   "metadata": {},
   "source": [
    "### 행정동 geojson 분리(수도권)"
   ]
  },
  {
   "cell_type": "code",
   "execution_count": 3,
   "id": "4e2535ac-e406-42df-8761-5ad91ab6cf71",
   "metadata": {},
   "outputs": [
    {
     "name": "stdout",
     "output_type": "stream",
     "text": [
      "수도권 행정동 수: 1182개\n"
     ]
    }
   ],
   "source": [
    "import pandas as pd\n",
    "import geopandas as gpd\n",
    "\n",
    "# 1. 원본 GeoJSON 로드\n",
    "gdf = gpd.read_file(\"행정동_경계.geojson\")\n",
    "\n",
    "# 2. 수도권 코드 패턴으로 필터링\n",
    "metro_prefix = (\"11\", \"31\", \"23\")  # 서울, 경기, 인천\n",
    "filtered_gdf = gdf[gdf[\"ADM_CD\"].astype(str).str.startswith(metro_prefix)] # startswith 앞에 .str을 써줌으로 문자열 관련 작업 accessor를 설정\n",
    "\n",
    "filtered_gdf.to_file(\"수도권_행정동_new.geojson\", driver=\"GeoJSON\", encoding=\"utf-8\")\n",
    "\n",
    "print(f\"수도권 행정동 수: {len(filtered_gdf)}개\")\n"
   ]
  },
  {
   "cell_type": "code",
   "execution_count": 5,
   "id": "9ff9bc04-fd6c-4d08-a3db-3e31461a695e",
   "metadata": {},
   "outputs": [],
   "source": [
    "gdf = gpd.read_file(\"수도권_행정동_new.geojson\")\n",
    "\n",
    "# epsg 4326으로 교체\n",
    "gdf = gdf.to_crs(epsg=4326)\n",
    "\n",
    "gdf.to_file(\"metro_only_new.geojson\", driver=\"GeoJSON\")"
   ]
  },
  {
   "cell_type": "code",
   "execution_count": 1,
   "id": "2f7182ff-88b4-42f2-90e7-77c2f85c4681",
   "metadata": {},
   "outputs": [
    {
     "name": "stdout",
     "output_type": "stream",
     "text": [
      "{'traffic': 570.0, 'station_cnt': 805.0}\n"
     ]
    }
   ],
   "source": [
    "# import json\n",
    "\n",
    "# with open('metro_roi_region.geojson', encoding='utf-8') as f:\n",
    "#     features = json.load(f)['features']\n",
    "\n",
    "# max_vals = {\n",
    "#     k: max(feat['properties'][k] for feat in features)\n",
    "#     for k in ('traffic', 'station_cnt')\n",
    "# }\n",
    "\n",
    "# print(max_vals)  # {'traffic': ..., 'station_cnt': ...}"
   ]
  },
  {
   "cell_type": "code",
   "execution_count": null,
   "id": "bf52e523-cad1-4b38-a0ce-4b71dacc785c",
   "metadata": {},
   "outputs": [],
   "source": []
  },
  {
   "cell_type": "code",
   "execution_count": null,
   "id": "3c8a0632-dec1-4ef0-ba70-05f2e4bf5328",
   "metadata": {},
   "outputs": [],
   "source": []
  },
  {
   "cell_type": "code",
   "execution_count": null,
   "id": "25ab3895-c927-489c-a770-b6207f672cc1",
   "metadata": {},
   "outputs": [],
   "source": []
  },
  {
   "cell_type": "code",
   "execution_count": null,
   "id": "57a9b8ec-4d79-481b-abdf-8943712a63d2",
   "metadata": {},
   "outputs": [],
   "source": []
  },
  {
   "cell_type": "code",
   "execution_count": null,
   "id": "a91592c2-6d49-43bf-89f6-53e29880d258",
   "metadata": {},
   "outputs": [],
   "source": []
  },
  {
   "cell_type": "code",
   "execution_count": null,
   "id": "987809ef-7aa7-48ce-8a76-1b8e67c6a6e2",
   "metadata": {},
   "outputs": [],
   "source": []
  },
  {
   "cell_type": "code",
   "execution_count": null,
   "id": "328bc52c-a0ad-4de5-8e7f-ed8bddfc2abf",
   "metadata": {},
   "outputs": [],
   "source": []
  },
  {
   "cell_type": "code",
   "execution_count": null,
   "id": "8811f303-294b-4c91-8a88-995536cbbec3",
   "metadata": {},
   "outputs": [],
   "source": []
  },
  {
   "cell_type": "code",
   "execution_count": null,
   "id": "3dbeb259-bb20-4039-a930-61c6f037f98c",
   "metadata": {},
   "outputs": [],
   "source": []
  },
  {
   "cell_type": "code",
   "execution_count": null,
   "id": "6fdbb7c6-1e22-45a8-83a4-8313b2e61b8c",
   "metadata": {},
   "outputs": [],
   "source": []
  },
  {
   "cell_type": "code",
   "execution_count": null,
   "id": "14130f0f-20b9-42d9-8498-2c0a5bc4f49d",
   "metadata": {},
   "outputs": [],
   "source": []
  }
 ],
 "metadata": {
  "kernelspec": {
   "display_name": "Python [conda env:base] *",
   "language": "python",
   "name": "conda-base-py"
  },
  "language_info": {
   "codemirror_mode": {
    "name": "ipython",
    "version": 3
   },
   "file_extension": ".py",
   "mimetype": "text/x-python",
   "name": "python",
   "nbconvert_exporter": "python",
   "pygments_lexer": "ipython3",
   "version": "3.12.7"
  }
 },
 "nbformat": 4,
 "nbformat_minor": 5
}
