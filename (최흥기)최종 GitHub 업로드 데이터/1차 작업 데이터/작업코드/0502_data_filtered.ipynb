{
 "cells": [
  {
   "cell_type": "code",
   "execution_count": 7,
   "id": "da59f293-0ac3-477c-8a8c-89443a0cb9d3",
   "metadata": {},
   "outputs": [
    {
     "name": "stdout",
     "output_type": "stream",
     "text": [
      " 필터링된 충전소 수: 3736건\n"
     ]
    }
   ],
   "source": [
    "import pandas as pd\n",
    "\n",
    "# 1. 전체 충전소 정보 CSV 불러오기\n",
    "# 한국어는 무조건 utf-8 하는게 중요, 한컴은 또 다름 ;;\n",
    "# 여기서 utf-8-sig 와 utf-8 차이점은 BOM 파일 앞단 유무 차이\n",
    "df = pd.read_csv(\"충전소_전체정보 (1).csv\", encoding=\"utf-8-sig\")\n",
    "\n",
    "# print(df.head())  # df 잘 불러왔는지 확인\n",
    "\n",
    "# print(df['주소'].values)  # 주소만 빼올수 있는거 확인\n",
    "\n",
    "# 2. 필터링: 주소에 '서울'이 모두 포함된 경우만\n",
    "filtered = df[df[\"주소\"].str.contains(\"서울\", na=False)]\n",
    "\n",
    "# 3. 결과 확인 및 저장\n",
    "print(f\" 필터링된 충전소 수: {len(filtered)}건\")\n",
    "filtered.to_csv(\"서울_충전소.csv\", index=False, encoding='utf-8-sig')\n",
    "\n",
    "# 4. 새 CSV로 저장\n",
    "# filtered.to_csv(\"제주도_충전소.csv\", index=False, encoding=\"utf-8-sig\")\n",
    "# print(\" '제주도_충전소.csv' 저장\")\n",
    "\n",
    "# # ex 전체 중 '제주' 지역만\n",
    "# filtered = df[df[\"주소\"].str.contains(\"제주\", na=False)]\n",
    "\n",
    "# # 예: '세종' 포함하고 '고속도로' 포함하는 충전소만\n",
    "# filtered = df[df[\"주소\"].str.contains(\n",
    "#     \"세종\", na=False) & df[\"상세주소\"].str.contains(\"고속도로\", na=False)]"
   ]
  },
  {
   "cell_type": "code",
   "execution_count": 9,
   "id": "d0798eff-83c7-4a6f-96e7-33b3858d0c2b",
   "metadata": {},
   "outputs": [
    {
     "name": "stdout",
     "output_type": "stream",
     "text": [
      " 필터링된 충전소 수: 90934건\n"
     ]
    }
   ],
   "source": [
    "# 경기도 데이터 필터링\n",
    "filtered = df[df[\"주소\"].str.contains(\"경기도\", na=False)]\n",
    "print(f\" 필터링된 충전소 수: {len(filtered)}건\")\n",
    "print(filtered.head())\n",
    "\n",
    "# 새 CSV로 저장\n",
    "filtered.to_csv(\"경기도_충전소.csv\", index=False, encoding=\"utf-8-sig\")\n",
    "print(\" '경기도_충전소.csv' 저장\")"
   ]
  },
  {
   "cell_type": "code",
   "execution_count": 19,
   "id": "81d31878-ccce-41f4-aa57-e51d0401870f",
   "metadata": {},
   "outputs": [
    {
     "name": "stdout",
     "output_type": "stream",
     "text": [
      "필터링된 충전소 수: 19946건\n"
     ]
    }
   ],
   "source": [
    "# 인천광역시 데이터 필터링\n",
    "filtered = df[df['주소'].str.contains('인천광역시', na=False)]\n",
    "print(f\"필터링된 충전소 수: {len(filtered)}건\")\n",
    "\n",
    "# 새 CSV로 저장\n",
    "filtered.to_csv('인천광역시_충전소.csv', index=False, encoding='utf-8-sig')\n",
    "print(\" '인천광역시_충전소.csv' 저장\")"
   ]
  },
  {
   "cell_type": "code",
   "execution_count": null,
   "id": "a6169151-e3c7-4af8-9e58-00609baf2a75",
   "metadata": {},
   "outputs": [],
   "source": []
  },
  {
   "cell_type": "code",
   "execution_count": null,
   "id": "b2e1e9c5-a104-436d-bd1d-1915e8cdeec7",
   "metadata": {},
   "outputs": [],
   "source": []
  },
  {
   "cell_type": "code",
   "execution_count": null,
   "id": "ba8de1a4-27c5-4ecb-87f0-ee10c9458f9e",
   "metadata": {},
   "outputs": [],
   "source": []
  },
  {
   "cell_type": "code",
   "execution_count": null,
   "id": "dd347a61-477d-4b7b-a2a9-cd6f4d093c4d",
   "metadata": {},
   "outputs": [],
   "source": []
  }
 ],
 "metadata": {
  "kernelspec": {
   "display_name": "Python [conda env:base] *",
   "language": "python",
   "name": "conda-base-py"
  },
  "language_info": {
   "codemirror_mode": {
    "name": "ipython",
    "version": 3
   },
   "file_extension": ".py",
   "mimetype": "text/x-python",
   "name": "python",
   "nbconvert_exporter": "python",
   "pygments_lexer": "ipython3",
   "version": "3.12.7"
  }
 },
 "nbformat": 4,
 "nbformat_minor": 5
}
