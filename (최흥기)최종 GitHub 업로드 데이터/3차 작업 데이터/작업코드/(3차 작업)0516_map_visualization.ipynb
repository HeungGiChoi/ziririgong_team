{
 "cells": [
  {
   "cell_type": "markdown",
   "id": "81e62506-8f14-44d3-9849-6e93ff27ee0b",
   "metadata": {},
   "source": [
    "# 공영주차장 중 우선설치 입지 선정 작업"
   ]
  },
  {
   "cell_type": "markdown",
   "id": "c024f334-da8b-4f8f-a587-a195f94bf2f2",
   "metadata": {},
   "source": [
    "### 공영주차장/ 충전소 매칭 장소 시각화 작업"
   ]
  },
  {
   "cell_type": "code",
   "execution_count": 22,
   "id": "5284a8e4-4b15-4b3f-92eb-a488d9c7dbba",
   "metadata": {},
   "outputs": [],
   "source": [
    "import pandas as pd, geopandas as gpd, plotly.express as px\n",
    "import plotly.io as pio\n",
    "\n",
    "px.set_mapbox_access_token(\"YOUR_MAPBOX_ACCESS_TOKEN\")\n",
    "\n",
    "# plotly+Mapbox, browser 환경에 오픈\n",
    "pio.renderers.default = 'browser'\n",
    "\n",
    "# CSV 읽기\n",
    "ch = pd.read_csv(\"수도권_충전소데이터_민공분리.csv\")\n",
    "pk = pd.read_csv(\"수도권_주차장데이터_중복값제거.csv\")\n",
    "pk_public = pk[pk['주차장구분'].str.strip() == '공영']\n",
    "\n",
    "# ch와 pk_public을 GeoDataFrame으로 변환\n",
    "# gpd.sjoin_nearest를 사용하기 위함\n",
    "gdf_ch = gpd.GeoDataFrame(ch,\n",
    "    geometry=gpd.points_from_xy(ch['경도'], ch['위도']), crs=\"EPSG:4326\")\n",
    "gdf_pk = gpd.GeoDataFrame(pk_public,\n",
    "    geometry=gpd.points_from_xy(pk_public['경도'], pk_public['위도']), crs=\"EPSG:4326\")\n",
    "\n",
    "# 투영 / 근접 조인\n",
    "# EPSG:5179로 sjoin_nearest에서 max_distance를 설정해야 m를 기준으로 거리를 설정할 수 있다.\n",
    "proj = \"EPSG:5179\"\n",
    "gdf_ch = gdf_ch.to_crs(proj)\n",
    "gdf_pk = gdf_pk.to_crs(proj)\n",
    "\n",
    "matched = gpd.sjoin_nearest(\n",
    "    gdf_ch, gdf_pk[['주차장관리번호','geometry']],\n",
    "    how=\"inner\", max_distance=50\n",
    ").to_crs(\"EPSG:4326\")\n",
    "\n",
    "# Plotly Mapbox 시각화\n",
    "fig = px.scatter_mapbox(\n",
    "    matched,\n",
    "    lat=matched.geometry.y,\n",
    "    lon=matched.geometry.x,\n",
    "    hover_name=\"충전소명\",\n",
    "    size_max=2,  # 최대 크기 제한 (기본은 20)\n",
    "    size=[5]*len(matched),  # 모든 점을 5 크기로 고정\n",
    "    color_discrete_sequence=[\"blue\"],\n",
    "    zoom=8,\n",
    "    mapbox_style=\"carto-positron\",   # 토큰 필요 스타일\n",
    "    title=\"공영주차장 내 전기차 충전소\"\n",
    ")\n",
    "fig.show()\n"
   ]
  },
  {
   "cell_type": "code",
   "execution_count": 31,
   "id": "8bb13e2d-7dfb-4628-840d-3f04db82d8f2",
   "metadata": {},
   "outputs": [],
   "source": [
    "import pandas as pd, plotly.express as px, plotly.io as pio\n",
    "\n",
    "# Mapbox 토큰 및 렌더러 설정\n",
    "px.set_mapbox_access_token(\"YOUR_MAPBOX_ACCESS_TOKEN\")\n",
    "pio.renderers.default = 'browser'\n",
    "\n",
    "# CSV 읽기 및 컬럼 공백 제거\n",
    "df = pd.read_csv(\"30년도_수도권_이동_필터링.csv\")\n",
    "df.columns = df.columns.str.strip()\n",
    "\n",
    "# density heatmap 생성\n",
    "fig = px.density_mapbox(\n",
    "    df,\n",
    "    lat=\"lat\",               # 위도 컬럼\n",
    "    lon=\"lon\",               # 경도 컬럼\n",
    "    z=\"value\",             # 밀도 기준값\n",
    "    radius=5,               # 히트맵 반경(픽셀)\n",
    "    center={\"lat\":37.5,\"lon\":127},  # 초기 중심 좌표\n",
    "    zoom=8,                  # 초기 줌 레벨\n",
    "    mapbox_style=\"carto-positron\",\n",
    "    color_continuous_scale=\"Blues\",\n",
    "    title=\"수도권 EV 이동량 (2030)\"\n",
    ")\n",
    "\n",
    "# 브라우저에서 시각화\n",
    "fig.show()\n"
   ]
  },
  {
   "cell_type": "code",
   "execution_count": 47,
   "id": "5cda78bc-8a35-4631-ae21-ec822deba09a",
   "metadata": {},
   "outputs": [],
   "source": [
    "import pandas as pd\n",
    "\n",
    "# 가장 유연하게 감지하는 방식\n",
    "df = pd.read_csv(\"수도권_주차장데이터_UTF8.csv\", encoding=\"cp949\")\n",
    "df.to_csv(\"수도권_주차장데이터.csv\", encoding=\"utf-8-sig\", index=False)"
   ]
  },
  {
   "cell_type": "code",
   "execution_count": 51,
   "id": "afba2914-c741-4a76-885e-40dc8b1f5913",
   "metadata": {},
   "outputs": [],
   "source": [
    "df = pd.read_csv(\"수도권_충전소데이터_UTF8.csv\", encoding=\"cp949\")\n",
    "df.to_csv(\"수도권_충전소데이터.csv\", index=False, encoding=\"utf-8-sig\")"
   ]
  },
  {
   "cell_type": "markdown",
   "id": "b3badc34-2d8d-4356-9f5d-a69ee2f67418",
   "metadata": {},
   "source": [
    "### 원래 의도는 공영 주차장 데이터와 민영/공영 분리 충전소 데이터를 겹쳐서 충전소가 설치된 공영주차장과\n",
    "### 설치되지 않은 공영 주차장을 확인하려 했으나, 서울에선 모든 공영 주차장에 충전소가 설치되었고,\n",
    "### 경기도나 인천광역시까지 확인하는건 무의미한것으로 판단되어 이 이상의 작업은 중단함."
   ]
  },
  {
   "cell_type": "code",
   "execution_count": null,
   "id": "e1901637-00a6-469f-99e5-1c928c5a54c1",
   "metadata": {},
   "outputs": [],
   "source": []
  },
  {
   "cell_type": "code",
   "execution_count": null,
   "id": "29dea473-ee92-414c-b486-fc7b2d6091b5",
   "metadata": {},
   "outputs": [],
   "source": []
  },
  {
   "cell_type": "code",
   "execution_count": null,
   "id": "fc83bee5-fea0-4812-a103-f0c89bed5773",
   "metadata": {},
   "outputs": [],
   "source": []
  },
  {
   "cell_type": "code",
   "execution_count": null,
   "id": "59d3baf7-0d39-4030-b4ce-75350de2961c",
   "metadata": {},
   "outputs": [],
   "source": []
  },
  {
   "cell_type": "code",
   "execution_count": null,
   "id": "36a9e911-8f56-4185-9506-4b00dbb08923",
   "metadata": {},
   "outputs": [],
   "source": []
  },
  {
   "cell_type": "code",
   "execution_count": null,
   "id": "8bd4d839-965c-4609-b440-8ecf64528f52",
   "metadata": {},
   "outputs": [],
   "source": []
  },
  {
   "cell_type": "code",
   "execution_count": null,
   "id": "37ce93f6-62a7-4f0e-b6ed-d15e6a5bb54f",
   "metadata": {},
   "outputs": [],
   "source": []
  },
  {
   "cell_type": "code",
   "execution_count": null,
   "id": "7d5c3332-b953-412a-b631-de7e35a20d6b",
   "metadata": {},
   "outputs": [],
   "source": []
  },
  {
   "cell_type": "code",
   "execution_count": null,
   "id": "a57b42f6-1350-4520-8698-2d6bc127a7b7",
   "metadata": {},
   "outputs": [],
   "source": []
  }
 ],
 "metadata": {
  "kernelspec": {
   "display_name": "Python [conda env:base] *",
   "language": "python",
   "name": "conda-base-py"
  },
  "language_info": {
   "codemirror_mode": {
    "name": "ipython",
    "version": 3
   },
   "file_extension": ".py",
   "mimetype": "text/x-python",
   "name": "python",
   "nbconvert_exporter": "python",
   "pygments_lexer": "ipython3",
   "version": "3.12.7"
  }
 },
 "nbformat": 4,
 "nbformat_minor": 5
}
