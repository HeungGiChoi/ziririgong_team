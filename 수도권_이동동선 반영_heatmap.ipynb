{
 "cells": [
  {
   "cell_type": "code",
   "execution_count": null,
   "id": "532759ef-27e4-41ef-b5e8-de40f434d5d9",
   "metadata": {},
   "outputs": [],
   "source": [
    "import numpy as np\n",
    "import pandas as pd\n",
    "import matplotlib.pyplot as plt\n",
    "from skimage.draw import line"
   ]
  },
  {
   "cell_type": "code",
   "execution_count": null,
   "id": "93925d19-4644-4c07-b6e4-09cd3acb6cf7",
   "metadata": {},
   "outputs": [],
   "source": [
    "import matplotlib.pyplot as plt"
   ]
  },
  {
   "cell_type": "code",
   "execution_count": null,
   "id": "049048ec-112a-4316-84b5-1d6f193b2e50",
   "metadata": {},
   "outputs": [],
   "source": [
    "from multiprocessing import Pool, cpu_count\n",
    "from functools import partial"
   ]
  },
  {
   "cell_type": "code",
   "execution_count": null,
   "id": "5be47bbb-02c5-4d08-86e8-4d4ced342714",
   "metadata": {},
   "outputs": [],
   "source": [
    "import plotly.graph_objects as go"
   ]
  },
  {
   "cell_type": "code",
   "execution_count": null,
   "id": "9369a06f-26b0-4932-8ebb-7706138b016a",
   "metadata": {},
   "outputs": [],
   "source": [
    "import seaborn as sns"
   ]
  },
  {
   "cell_type": "code",
   "execution_count": null,
   "id": "60e4f5ba-e994-4cef-b00a-4e4f2daf6664",
   "metadata": {},
   "outputs": [],
   "source": [
    "from sklearn.preprocessing import StandardScaler"
   ]
  },
  {
   "cell_type": "code",
   "execution_count": null,
   "id": "7aa92c42-7c23-410c-bb64-2b5cc16e0446",
   "metadata": {},
   "outputs": [],
   "source": [
    "import geopandas as gpd"
   ]
  },
  {
   "cell_type": "code",
   "execution_count": null,
   "id": "aa577650-7cad-406d-ab7b-18af719ad547",
   "metadata": {
    "scrolled": true
   },
   "outputs": [],
   "source": [
    "df = pd.read_csv('metropoli_lat_lng.csv')\n",
    "df.head()"
   ]
  },
  {
   "cell_type": "markdown",
   "id": "331d82ca-e1b6-4629-bf4e-623ae4753d0a",
   "metadata": {
    "jp-MarkdownHeadingCollapsed": true
   },
   "source": [
    "#### 데이터 다운그레이드"
   ]
  },
  {
   "cell_type": "code",
   "execution_count": null,
   "id": "3c47c9fb-392e-4937-a5a3-572a04bfe95d",
   "metadata": {
    "scrolled": true
   },
   "outputs": [],
   "source": [
    "# 한글 폰트 설정 (Mac 기준 예시: AppleGothic, Windows는 'Malgun Gothic')\n",
    "plt.rc('font', family='AppleGothic')  \n",
    "# y축 숫자 줄임 없이 그대로 표시\n",
    "plt.ticklabel_format(style='plain', axis='y')  \n",
    "\n",
    "# 히스토그램 그리기\n",
    "plt.hist(\n",
    "    df['도착 행정동 주소'],\n",
    "    histtype='bar'\n",
    ")\n",
    "plt.figure(figsize=(16, 8))\n",
    "plt.xlabel('출발 행정동 주소')\n",
    "plt.ylabel('빈도수')\n",
    "plt.title('출발 행정동 주소 분포')\n",
    "plt.xticks(rotation=90)\n",
    "plt.tight_layout()\n",
    "plt.show()"
   ]
  },
  {
   "cell_type": "markdown",
   "id": "3c9fc86f-bfc9-4930-950d-67ec9c4d62ba",
   "metadata": {
    "jp-MarkdownHeadingCollapsed": true
   },
   "source": [
    "##### 연도별 수도권 데이터 랜덤 추출 "
   ]
  },
  {
   "cell_type": "code",
   "execution_count": null,
   "id": "bf1082d3-138d-46b0-919c-6819a88a5252",
   "metadata": {},
   "outputs": [],
   "source": [
    "# 출발-도착 주소를 하나로 묶어 그룹화 기준 만들기\n",
    "df['경로'] = df['출발 행정동 주소'] + \" → \" + df['도착 행정동 주소']\n",
    "\n",
    "# 원하는 비율 지정\n",
    "rates = [0.017, 0.10, 0.16]  \n",
    "\n",
    "# 함수: 비율 유지한 샘플링\n",
    "def stratified_sample(df, group_col, ratio):\n",
    "    return (\n",
    "        df.groupby(group_col, group_keys=False)\n",
    "          .apply(lambda x: x.sample(frac=ratio, random_state=42))  # 재현 가능\n",
    "    )\n",
    "\n",
    "# 비율별로 샘플링\n",
    "sample_1_7 = stratified_sample(df, '경로', 0.017)\n",
    "sample_10 = stratified_sample(df, '경로', 0.10)\n",
    "sample_16 = stratified_sample(df, '경로', 0.16)"
   ]
  },
  {
   "cell_type": "code",
   "execution_count": null,
   "id": "fba3c146-ec75-4da7-a129-3f0c716b2b12",
   "metadata": {},
   "outputs": [],
   "source": [
    "sample_1_7.columns"
   ]
  },
  {
   "cell_type": "code",
   "execution_count": null,
   "id": "4e6c7c63-71f1-47c9-83fc-d22e513bbdb9",
   "metadata": {},
   "outputs": [],
   "source": [
    "sample_1_7.columns"
   ]
  },
  {
   "cell_type": "code",
   "execution_count": null,
   "id": "54a21a5c-97b7-4a0b-85dc-7bb16e664284",
   "metadata": {},
   "outputs": [],
   "source": [
    "sample_1_7 = sample_1_7.drop(columns='경로')\n",
    "sample_10 = sample_10.drop(columns='경로')\n",
    "sample_16 = sample_16.drop(columns='경로')"
   ]
  },
  {
   "cell_type": "code",
   "execution_count": null,
   "id": "1d18a7a2-c5b2-4808-8e40-5b1178cc1d36",
   "metadata": {},
   "outputs": [],
   "source": [
    "# 각 샘플 결측치 제거\n",
    "sample_21= sample_1_7.dropna(subset=['출발 위도', '출발 경도', '도착 위도', '도착 경도'])\n",
    "print(sample_21.shape)\n",
    "sample_26= sample_10.dropna(subset=['출발 위도', '출발 경도', '도착 위도', '도착 경도'])\n",
    "print(sample_26.shape)\n",
    "sample_30= sample_16.dropna(subset=['출발 위도', '출발 경도', '도착 위도', '도착 경도'])\n",
    "print(sample_30.shape)"
   ]
  },
  {
   "cell_type": "code",
   "execution_count": null,
   "id": "3300be1f-b3ec-4055-9611-a6daac4d28a7",
   "metadata": {
    "jupyter": {
     "source_hidden": true
    }
   },
   "outputs": [],
   "source": [
    "# 2. Kakao REST API 키\n",
    "api_key = \"4ffdaedd97065f6660c65fe7c75d42e6\"  # 예: \"69e904e85329cddd6795bf2cfe6c576a\"\n",
    "\n",
    "# 3. 주소 → 위도/경도 요청 함수\n",
    "def get_lat_lng(address, api_key):\n",
    "    try:\n",
    "        url = \"https://dapi.kakao.com/v2/local/search/address.json\"\n",
    "        headers = {\"Authorization\": f\"KakaoAK {api_key}\"}\n",
    "        params = {\"query\": address}\n",
    "        response = requests.get(url, headers=headers, params=params)\n",
    "\n",
    "        print(f\"[Query] {address}\")\n",
    "        print(f\"[Status] {response.status_code}\")\n",
    "        print(f\"[JSON] {response.json()}\")  # 응답 확인\n",
    "\n",
    "        if response.status_code == 200:\n",
    "            result = response.json()\n",
    "            if result['documents']:\n",
    "                location = result['documents'][0]['address']\n",
    "                return location['y'], location['x']\n",
    "        return None, None\n",
    "    except Exception as e:\n",
    "        print(f\"[Exception] {e}\")\n",
    "        return None, None"
   ]
  },
  {
   "cell_type": "code",
   "execution_count": null,
   "id": "c4e2d670-de9a-48da-9dd5-2f33b4641089",
   "metadata": {},
   "outputs": [],
   "source": [
    "#연도별 이동 데이터 파일로 저장 \n",
    "sample_21.to_csv(\"sample_21.csv\", index=False, encoding=\"utf-8-sig\")\n",
    "sample_26.to_csv(\"sample_26.csv\", index=False, encoding=\"utf-8-sig\")\n",
    "sample_30.to_csv(\"sample_30.csv\", index=False, encoding=\"utf-8-sig\")"
   ]
  },
  {
   "cell_type": "code",
   "execution_count": null,
   "id": "c9342cb6-0701-43ef-8257-69c9a1aba054",
   "metadata": {},
   "outputs": [],
   "source": [
    "sample_21"
   ]
  },
  {
   "cell_type": "markdown",
   "id": "0c0f1b24-40de-4700-ace7-b7705426e9ab",
   "metadata": {},
   "source": [
    "## 히트맵 그리기 (결측치 보완 X ver)"
   ]
  },
  {
   "cell_type": "markdown",
   "id": "5e08da3c-ea31-4449-aeb9-1ff49f4634e9",
   "metadata": {
    "jp-MarkdownHeadingCollapsed": true
   },
   "source": [
    "#### 히트맵 그리기"
   ]
  },
  {
   "cell_type": "code",
   "execution_count": null,
   "id": "2fe0ffdb-82e2-4a43-930b-8a251450c7f2",
   "metadata": {},
   "outputs": [],
   "source": [
    "samples = {\n",
    "    \"21\": sample_21,\n",
    "    \"26\": sample_26,\n",
    "    \"30\": sample_30\n",
    "}\n",
    "\n",
    "# 결과 저장용 dict\n",
    "heatmaps = {}\n",
    "shapes = {}\n",
    "grids = {}\n"
   ]
  },
  {
   "cell_type": "code",
   "execution_count": null,
   "id": "b96ddc01-bba1-4b1f-8165-2afc858a199d",
   "metadata": {},
   "outputs": [],
   "source": [
    "# 격자 크기 (약 300m)\n",
    "lat_step = lon_step = 0.003"
   ]
  },
  {
   "cell_type": "code",
   "execution_count": null,
   "id": "3c0106e7-a883-4f71-a12a-a560b05e0ad1",
   "metadata": {},
   "outputs": [],
   "source": [
    "# 히트맵 shape 계산\n",
    "def h_w_shape(lat_max, lat_min, lat_step, lon_max, lon_min, lon_step):\n",
    "    height = int((lat_max - lat_min) / lat_step) + 1\n",
    "    width = int((lon_max - lon_min) / lon_step) + 1\n",
    "    shape = (height, width)\n",
    "    return height, width, shape"
   ]
  },
  {
   "cell_type": "code",
   "execution_count": null,
   "id": "cbc61c05-2f44-4d5b-a227-bfb6b0fc3f75",
   "metadata": {},
   "outputs": [],
   "source": [
    "#위경도를 그리드로 변환 함수\n",
    "def latlon_to_grid(lat, lon, lat_min, lon_min, lat_step, lon_step):\n",
    "    y = int((lat - lat_min) // lat_step)\n",
    "    x = int((lon - lon_min) // lon_step)\n",
    "    return x, y  # (열, 행)"
   ]
  },
  {
   "cell_type": "code",
   "execution_count": null,
   "id": "1ce83ccd-dcfd-41ef-bee1-a45bfef3b1fe",
   "metadata": {},
   "outputs": [],
   "source": [
    "# 이동 경로 하나씩 그리면서 만개씩마다 디버깅 \n",
    "def draw_lines_with_weight(shape, lines, k=5, verbose=True, log_every=10000):\n",
    "    import numpy as np\n",
    "    heatmap = np.zeros(shape, dtype=np.float32)\n",
    "\n",
    "    for idx, (p1, p2) in enumerate(lines):\n",
    "        x1, y1 = round(p1[0]), round(p1[1])\n",
    "        x2, y2 = round(p2[0]), round(p2[1])\n",
    "\n",
    "        rows, cols = line(y1, x1, y2, x2)\n",
    "\n",
    "        for i in range(len(rows)):\n",
    "            if 0 <= rows[i] < shape[0] and 0 <= cols[i] < shape[1]:\n",
    "                heatmap[rows[i], cols[i]] += 3\n",
    "\n",
    "        if 0 <= y1 < shape[0] and 0 <= x1 < shape[1]:\n",
    "            heatmap[y1, x1] += (k - 1)\n",
    "        if 0 <= y2 < shape[0] and 0 <= x2 < shape[1]:\n",
    "            heatmap[y2, x2] += (k - 1)\n",
    "\n",
    "        # 진행률 출력\n",
    "        if verbose and idx % log_every == 0 and idx != 0:\n",
    "            print(f\"[{idx:,}/{len(lines):,}] 선 처리 중...\")\n",
    "\n",
    "    print(f\"[완료] 총 {len(lines):,}개의 선 처리 완료.\")\n",
    "    return heatmap"
   ]
  },
  {
   "cell_type": "code",
   "execution_count": null,
   "id": "c66c4b34-941c-44cf-a6ed-a95c76443124",
   "metadata": {
    "scrolled": true
   },
   "outputs": [],
   "source": [
    "# 연도별 처리 루프\n",
    "for year, df in samples.items():\n",
    "    print(f\"📦 {year}년 데이터 처리 중...\")\n",
    "\n",
    "    # 위경도 범위 계산\n",
    "    lat_min = min(df['출발 위도'].min(), df['도착 위도'].min())\n",
    "    lat_max = max(df['출발 위도'].max(), df['도착 위도'].max())\n",
    "    lon_min = min(df['출발 경도'].min(), df['도착 경도'].min())\n",
    "    lon_max = max(df['출발 경도'].max(), df['도착 경도'].max())\n",
    "\n",
    "    # shape 계산\n",
    "    height, width, shape = h_w_shape(lat_max, lat_min, lat_step, lon_max, lon_min, lon_step)\n",
    "    shapes[year] = shape\n",
    "\n",
    "    # 격자화한 라인 리스트 생성\n",
    "    lines = []\n",
    "    for _, row in df.iterrows():\n",
    "        x1, y1 = latlon_to_grid(row['출발 위도'], row['출발 경도'], lat_min, lon_min, lat_step, lon_step)\n",
    "        x2, y2 = latlon_to_grid(row['도착 위도'], row['도착 경도'], lat_min, lon_min, lat_step, lon_step)\n",
    "        lines.append(((x1, y1), (x2, y2)))\n",
    "\n",
    "    # 히트맵 생성\n",
    "    heatmap = draw_lines_with_weight(shape, lines, k=5)\n",
    "    heatmaps[year] = heatmap\n",
    "\n",
    "    print(f\"✅ {year}년 히트맵 shape: {shape}\\n\")"
   ]
  },
  {
   "cell_type": "code",
   "execution_count": null,
   "id": "dd41e756-2446-422c-bb1e-f27efeead24e",
   "metadata": {
    "scrolled": true
   },
   "outputs": [],
   "source": [
    "for year, hm in heatmaps.items():  # heatmaps는 {연도: numpy array} 구조\n",
    "    plt.figure(figsize=(12, 10))\n",
    "    plt.imshow(hm, cmap=\"coolwarm\", interpolation=\"nearest\")\n",
    "    plt.title(f\"EV 이동 히트맵 - 20{year}년\", fontsize=16)\n",
    "    plt.colorbar(label=\"이동량\")\n",
    "    plt.axis(\"off\")\n",
    "    plt.tight_layout()\n",
    "    plt.show()\n"
   ]
  },
  {
   "cell_type": "markdown",
   "id": "badb8702-9571-4f0b-94f9-68428f1c50f1",
   "metadata": {},
   "source": [
    "## Plotly + Mapbox"
   ]
  },
  {
   "cell_type": "markdown",
   "id": "ca81ad0a-8546-41a4-8d62-6b5e277d5f91",
   "metadata": {
    "jp-MarkdownHeadingCollapsed": true
   },
   "source": [
    "#### 히트맵 기반 서울 plotly + mapbox 그리기"
   ]
  },
  {
   "cell_type": "code",
   "execution_count": null,
   "id": "861fb8ff-49e8-421d-a33f-a097016319ae",
   "metadata": {},
   "outputs": [],
   "source": [
    "import plotly.express as px\n",
    "import plotly.io as pio\n",
    "\n",
    "pio.renderers.default = 'browser'\n",
    "\n",
    "lat_step = lon_step = 0.003\n",
    "df_heats = {}\n",
    "\n",
    "for year, heatmap in heatmaps.items():\n",
    "    print(f\"🗺️ Plotly 시각화: 20{year}년\")\n",
    "\n",
    "    shape = heatmap.shape\n",
    "    height, width = shape\n",
    "\n",
    "    # → 원래 위경도 최소값을 \"샘플 데이터프레임\"에서 계산\n",
    "    df = samples[year]\n",
    "    lat_min = min(df['출발 위도'].min(), df['도착 위도'].min())\n",
    "    lon_min = min(df['출발 경도'].min(), df['도착 경도'].min())\n",
    "\n",
    "    # 위경도 최대값은 shape로 유도\n",
    "    lat_max = lat_min + lat_step * height\n",
    "    lon_max = lon_min + lon_step * width\n",
    "\n",
    "    # 히트맵에서 포인트 추출\n",
    "    heat_points = []\n",
    "    for y in range(height):\n",
    "        for x in range(width):\n",
    "            value = heatmap[y, x]\n",
    "            if value > 0:\n",
    "                lat = lat_min + y * lat_step + lat_step / 2\n",
    "                lon = lon_min + x * lon_step + lon_step / 2\n",
    "                heat_points.append([lat, lon, value])\n",
    "\n",
    "    df_heat = pd.DataFrame(heat_points, columns=[\"lat\", \"lon\", \"value\"])\n",
    "    df_heats[year] = df_heat\n",
    "    \n",
    "    # Plotly density_mapbox 시각화\n",
    "    fig = px.density_mapbox(\n",
    "        df_heat,\n",
    "        lat=\"lat\",\n",
    "        lon=\"lon\",\n",
    "        z=\"value\",\n",
    "        radius=1,\n",
    "        center=dict(lat=(lat_min + lat_max) / 2, lon=(lon_min + lon_max) / 2),\n",
    "        zoom=10,\n",
    "        mapbox_style=\"carto-positron\",\n",
    "        color_continuous_scale=\"plasma\",\n",
    "        title=f\"EV 이동 히트맵 - 20{year}년\"\n",
    "    )\n",
    "\n",
    "    fig.show()\n",
    "    fig.write_html(f\"ev_heatmap_plotly_{year}.html\")"
   ]
  },
  {
   "cell_type": "code",
   "execution_count": null,
   "id": "d06375b6-45cb-49ff-84b8-798b3961cae9",
   "metadata": {},
   "outputs": [],
   "source": [
    "df_heats[\"30\"].max()"
   ]
  },
  {
   "cell_type": "code",
   "execution_count": null,
   "id": "953c7732-2805-4a4d-8c58-54982e99e838",
   "metadata": {},
   "outputs": [],
   "source": [
    "fig.write_html(\"ev_heatmap_plotly.html\")"
   ]
  },
  {
   "cell_type": "code",
   "execution_count": null,
   "id": "238460e8-ca82-4211-bac5-a53d4b3afd3c",
   "metadata": {},
   "outputs": [],
   "source": []
  },
  {
   "cell_type": "code",
   "execution_count": null,
   "id": "2bc7d6ae-0b9b-48cb-ac94-03ee87e6a1f1",
   "metadata": {},
   "outputs": [],
   "source": []
  },
  {
   "cell_type": "markdown",
   "id": "64d2466e-b813-4b31-99e9-e14875fb6ada",
   "metadata": {
    "jp-MarkdownHeadingCollapsed": true
   },
   "source": [
    "#### 이동 불가 지역 히트 포인트 제거"
   ]
  },
  {
   "cell_type": "code",
   "execution_count": null,
   "id": "e0c513ba-10f0-4beb-b85c-812f80e214f0",
   "metadata": {},
   "outputs": [],
   "source": [
    "df_heats"
   ]
  },
  {
   "cell_type": "markdown",
   "id": "8e5d1af8-4911-43b4-84b2-655bb16c8f85",
   "metadata": {},
   "source": [
    "###### 이동 불가 제한 지역은 shp 파일을 QGIS에서 geojson으로 변경"
   ]
  },
  {
   "cell_type": "code",
   "execution_count": null,
   "id": "3d6f6028-9d4b-49ae-9f68-0e4310b54313",
   "metadata": {
    "scrolled": true
   },
   "outputs": [],
   "source": [
    "# 이동 제한 구역 geojson 파일 불러오기\n",
    "restricted = gpd.read_file(\"merged_restricted_areas.geojson\")"
   ]
  },
  {
   "cell_type": "code",
   "execution_count": null,
   "id": "33b8da89-807b-4d90-a3f1-1e599bc9cf26",
   "metadata": {},
   "outputs": [],
   "source": [
    "restricted = restricted.drop(columns = ['path'])\n",
    "restricted = restricted.to_crs(\"EPSG:4326\")\n",
    "restricted.head()"
   ]
  },
  {
   "cell_type": "code",
   "execution_count": null,
   "id": "f8430ab2-1db5-4e16-840a-bae577686dcb",
   "metadata": {
    "scrolled": true
   },
   "outputs": [],
   "source": [
    "# 이동 불가 지역 시각화 \n",
    "restricted.plot(figsize=(10, 10), color=\"lightblue\", edgecolor=\"black\")\n",
    "plt.title(\"제한 지역 폴리곤 (하천, 산지, 녹지 등)\")\n",
    "plt.axis(\"off\")\n",
    "plt.show()"
   ]
  },
  {
   "cell_type": "code",
   "execution_count": null,
   "id": "0eaad5f8-da89-415e-9a9d-ac5d35503c1f",
   "metadata": {},
   "outputs": [],
   "source": [
    "from shapely.geometry import Point\n",
    "\n",
    "df_heats_filtered = {}\n",
    "\n",
    "#이동 불가 지역 폴리곤 안에 히트맵 포인트가 있는지 확인하고 포함되지 않은 히트맵 포인트만 필터링하는 함수 \n",
    "for year, df in df_heats.items():\n",
    "    print(f\"📦 {year}년 필터링 중...\")\n",
    "\n",
    "    gdf = gpd.GeoDataFrame(\n",
    "        df,\n",
    "        geometry=gpd.points_from_xy(df[\"lon\"], df[\"lat\"]),\n",
    "        crs=\"EPSG:4326\"\n",
    "    )\n",
    "\n",
    "    joined = gpd.sjoin(gdf, restricted, how=\"left\", predicate=\"within\")\n",
    "\n",
    "    # restricted에 포함되지 않은 것만 필터링\n",
    "    gdf_filtered = joined[joined.index_right.isna()].copy()\n",
    "\n",
    "    # 오른쪽 restricted 속성 제거 (선택)\n",
    "    gdf_filtered.drop(columns=[col for col in gdf_filtered.columns if col.endswith('_right') or col in restricted.columns], inplace=True)\n",
    "\n",
    "    df_heats_filtered[year] = gdf_filtered\n",
    "    print(f\"✅ {year}년 → {len(df)}개 중 {len(gdf_filtered)}개 유지\")"
   ]
  },
  {
   "cell_type": "code",
   "execution_count": null,
   "id": "ea9cb080-57af-4552-a1a4-f7be1185487a",
   "metadata": {},
   "outputs": [],
   "source": [
    "#이동 불가 지역 반영 연도별 데이터 프레임 \n",
    "for year, df in df_heats_filtered.items():\n",
    "    df.to_csv(f\"{year}년도_수도권_이동_필터링.csv\")"
   ]
  },
  {
   "cell_type": "markdown",
   "id": "6b036194-748f-4390-801f-ce6aeb817261",
   "metadata": {},
   "source": [
    "## 수도권 공급 + 수요 지도 합치기 "
   ]
  },
  {
   "cell_type": "markdown",
   "id": "2c7d5acf-2606-4c5f-86ea-1ed96db0993d",
   "metadata": {},
   "source": [
    "필요한 데이터 \n",
    "- 공급: 수도권 전기차 충전소 위치\n",
    "- 수요: 수도권 이동 동선 히트맵 2021, 2026, 2030년\n",
    "- 공영 주차장 "
   ]
  },
  {
   "cell_type": "code",
   "execution_count": null,
   "id": "9b89a994-9901-4c48-846c-cdf792c432e2",
   "metadata": {},
   "outputs": [],
   "source": [
    "# 공급 데이터 로드 \n",
    "s = pd.read_csv(\"서울_충전소_좌표추가_전체_cleaned.csv\")\n",
    "g = pd.read_csv(\"경기도_충전소_좌표추가_전체_cleaned.csv\")\n",
    "i = pd.read_csv(\"인천광역시_충전소_좌표추가_전체_cleaned.csv\")\n",
    "\n",
    "print(s.columns)\n",
    "print(g.columns)\n",
    "print(i.columns)\n",
    "\n",
    "#서울 충전소명, 충전기ID, 위도, 경도\n",
    "#경기도 충전소명, 충전기ID, 위도, 경도\n",
    "\n",
    "chargers = pd.concat([s[['충전소명', '충전기ID', '위도', '경도']], g[['충전소명', '충전기ID', '위도', '경도']], i[['충전소명', '충전기ID', '위도', '경도']]])\n",
    "print(chargers.shape)\n",
    "# 수요 데이터는\n",
    "# df_heats"
   ]
  },
  {
   "cell_type": "code",
   "execution_count": null,
   "id": "028c1060-a67f-41a0-9ba9-67559fd59646",
   "metadata": {},
   "outputs": [],
   "source": [
    "# 공영 주차장 로드\n",
    "pk = pd.read_csv(\"수도권_공영주차장데이터.csv\")\n",
    "pk.head()"
   ]
  },
  {
   "cell_type": "code",
   "execution_count": null,
   "id": "770dacfd-fc39-4233-9005-32493dbf301a",
   "metadata": {},
   "outputs": [],
   "source": [
    "pk = pk[['주차장명', '위도', '경도']]\n",
    "pk = pk.rename(columns={\"위도\": \"lat\", \"경도\": \"lon\"})"
   ]
  },
  {
   "cell_type": "code",
   "execution_count": null,
   "id": "f094a357-45ab-490d-91a1-4a4ca3beb8b9",
   "metadata": {},
   "outputs": [],
   "source": [
    "pk.to_csv(\"수도권_공영주차장.csv\", index = False, encoding=\"utf-8-sig\")"
   ]
  },
  {
   "cell_type": "code",
   "execution_count": null,
   "id": "be49f443-1027-4457-8788-d90840dca584",
   "metadata": {},
   "outputs": [],
   "source": []
  },
  {
   "cell_type": "markdown",
   "id": "337aa69e-7bcf-43c8-882c-32505506f90a",
   "metadata": {},
   "source": [
    "#### 21년도 처리 "
   ]
  },
  {
   "cell_type": "code",
   "execution_count": null,
   "id": "0edb70a9-d088-4aa1-a4e9-813c94465859",
   "metadata": {},
   "outputs": [],
   "source": [
    "#21년도 수요\n",
    "d_21 = df_heats_filtered['21'].copy()\n",
    "d_21.columns\n",
    "\n",
    "#21년도 수요 \n",
    "d_21.rename(\n",
    "    columns = {\n",
    "        \"value\" : \"이동경로량\"\n",
    "},inplace = True\n",
    ")"
   ]
  },
  {
   "cell_type": "code",
   "execution_count": null,
   "id": "729ebb45-c345-4604-bb08-f118de2878be",
   "metadata": {},
   "outputs": [],
   "source": [
    "#21년도 공급\n",
    "chargers.rename(\n",
    "    columns = {\n",
    "        \"위도\" : \"lat\",\n",
    "        \"경도\" : \"lon\"\n",
    "    }, inplace = True\n",
    ")\n",
    "\n",
    "print(d_21.head())\n",
    "print(chargers.head())"
   ]
  },
  {
   "cell_type": "code",
   "execution_count": null,
   "id": "a53ca421-9c5a-491e-8a93-db7e899140f2",
   "metadata": {
    "scrolled": true
   },
   "outputs": [],
   "source": [
    "# 행정동 별 충전소 개수 + 충전기 개수 모두 계산하는 함수\n",
    "def count_chargers_and_units_nearby(row, chargers, radius=0.003):\n",
    "    mask = ((abs(chargers[\"lat\"] - row[\"lat\"]) < radius) &\n",
    "            (abs(chargers[\"lon\"] - row[\"lon\"]) < radius))\n",
    "    \n",
    "    nearby = chargers[mask]\n",
    "    \n",
    "    station_count = nearby[\"충전소명\"].nunique()  # 고유 충전소 수\n",
    "    unit_count = nearby[\"충전기ID\"].count()      # 충전기 개수\n",
    "    \n",
    "    return pd.Series([station_count, unit_count])]\n",
    "\n",
    "d_21[[\"charger_station_count\", \"charger_total_count\"]] = d_21.apply(\n",
    "    lambda row: count_chargers_and_units_nearby(row, chargers),\n",
    "    axis=1\n",
    ")"
   ]
  },
  {
   "cell_type": "code",
   "execution_count": null,
   "id": "687db517-df5c-49ab-8ab1-02391a5e17d3",
   "metadata": {
    "scrolled": true
   },
   "outputs": [],
   "source": [
    "d_21.head()"
   ]
  },
  {
   "cell_type": "code",
   "execution_count": null,
   "id": "e0c8c334-ffec-4bcf-9c12-16a5cc3bf462",
   "metadata": {},
   "outputs": [],
   "source": [
    "# 수요-공급 차이 계산\n",
    "d_21[\"gap\"] = d_21[\"이동경로량\"] - d_21[\"charger_count\"]\n",
    "\n",
    "#수요- 공급 차이 중 유의미한 차이 두두러지게 스케일링: signed logrithimic \n",
    "def signed_log(x):\n",
    "    return np.sign(x) * np.log1p(abs(x))\n",
    "\n",
    "d_21[\"gap_signedlog\"] = d_21[\"gap\"].apply(signed_log)"
   ]
  },
  {
   "cell_type": "code",
   "execution_count": null,
   "id": "d6a8a8d1-11ca-40a2-ab10-fd31ba47a42e",
   "metadata": {},
   "outputs": [],
   "source": [
    "# Signed Log Gap 분포 확인 \n",
    "sns.histplot(\n",
    "    data=d_21,\n",
    "    x=\"gap_signedlog\",\n",
    "    bins=100,\n",
    "    kde=True,\n",
    "    stat=\"count\",\n",
    "    label=\"Signed Log Gap\",\n",
    "    color=\"tomato\",\n",
    "    alpha=0.6\n",
    ")\n",
    "\n",
    "# 📍 마무리 설정\n",
    "plt.xlabel(\"Gap\")\n",
    "plt.ylabel(\"num\")\n",
    "plt.legend()\n",
    "plt.grid(True)\n",
    "plt.tight_layout()\n",
    "plt.show()"
   ]
  },
  {
   "cell_type": "code",
   "execution_count": null,
   "id": "3232a3ca-4d0b-4b99-b76c-1ec42842a1a4",
   "metadata": {},
   "outputs": [],
   "source": [
    "d_21.to_csv(\"21년도_수요-이동량_스케일링.csv\",index=False, encoding=\"utf-8-sig\")"
   ]
  },
  {
   "cell_type": "code",
   "execution_count": null,
   "id": "1440b68f-a878-4dad-8cc2-213ee21df031",
   "metadata": {},
   "outputs": [],
   "source": [
    "d_21[\"gap_signedlog_emph\"] = d_21[\"gap_signedlog\"].apply(lambda x: np.sign(x) * (abs(x) ** 1.5))\n",
    "d_21[\"gap_size\"] = d_21[\"gap_signedlog_emph\"].abs()\n",
    "\n",
    "# 상위 10%, 하위 10% 추출\n",
    "upper_10_21 = d_21[d_21[\"gap_signedlog_emph\"] >= d_21[\"gap_signedlog_emph\"].quantile(0.9)]\n",
    "lower_10_21 = d_21[d_21[\"gap_signedlog_emph\"] <= d_21[\"gap_signedlog_emph\"].quantile(0.1)]\n",
    "filtered_21 = pd.concat([upper_10_21, lower_10_21])\n",
    "\n",
    "# 지도 시각화\n",
    "fig = px.scatter_mapbox(\n",
    "    filtered_21,\n",
    "    lat=\"lat\",\n",
    "    lon=\"lon\",\n",
    "    color=\"gap_signedlog_emph\",\n",
    "    color_continuous_scale=\"RdBu\",\n",
    "    color_continuous_midpoint=0,\n",
    "    size_max=20,\n",
    "    zoom=10,\n",
    "    hover_data={\n",
    "        \"gap_signedlog_emph\": True,\n",
    "        \"이동경로량\": True,\n",
    "        \"charger_count\": True,\n",
    "        \"lat\": False,\n",
    "        \"lon\": False\n",
    "    },\n",
    "    title=\"EV 격차 상/하위 10% + 충전소 + 공영주차장 (2021년)\"\n",
    ")\n",
    "\n",
    "# 공영주차장 핀 추가\n",
    "fig.add_trace(go.Scattermapbox(\n",
    "    lat=pk[\"lat\"],\n",
    "    lon=pk[\"lon\"],\n",
    "    mode=\"markers\",\n",
    "    marker=go.scattermapbox.Marker(size=3, color=\"yellow\"),\n",
    "    text=pk[\"주차장명\"],\n",
    "    hoverinfo=\"text\",\n",
    "    name=\"공영주차장\"\n",
    "))\n",
    "\n",
    "# 지도 스타일 설정 및 저장\n",
    "fig.update_layout(\n",
    "    mapbox_style=\"carto-positron\",\n",
    "    mapbox_zoom=10\n",
    ")\n",
    "\n",
    "fig.write_html(\"격차_상하위10+충전소+공영주차장_2021.html\")\n",
    "fig.show()\n",
    "\n"
   ]
  },
  {
   "cell_type": "code",
   "execution_count": null,
   "id": "94d5578d-9270-4c9f-bc2d-b44134425f66",
   "metadata": {},
   "outputs": [],
   "source": []
  },
  {
   "cell_type": "markdown",
   "id": "19cce23d-e8fd-42ab-b27d-83496bf22ed6",
   "metadata": {},
   "source": [
    "#### 26년 처리"
   ]
  },
  {
   "cell_type": "code",
   "execution_count": null,
   "id": "ec24469d-7fa7-4cf6-81ce-435070ca9715",
   "metadata": {},
   "outputs": [],
   "source": [
    "#21년도 수요\n",
    "d_26 = df_heats_filtered['26'].copy()\n",
    "d_26.columns\n",
    "\n",
    "#21년도 수요 \n",
    "d_26.rename(\n",
    "    columns = {\n",
    "        \"value\" : \"이동경로량\"\n",
    "},inplace = True\n",
    ")"
   ]
  },
  {
   "cell_type": "code",
   "execution_count": null,
   "id": "4c05b0f2-486c-4866-94c5-f31fcd577f62",
   "metadata": {},
   "outputs": [],
   "source": [
    "d_26[[\"charger_station_count\", \"charger_total_count\"]] = d_26.apply(\n",
    "    lambda row: count_chargers_and_units_nearby(row, chargers),\n",
    "    axis=1\n",
    ")"
   ]
  },
  {
   "cell_type": "code",
   "execution_count": null,
   "id": "5196de07-74f8-466f-88c8-6798365c3e0c",
   "metadata": {},
   "outputs": [],
   "source": [
    "# # 행정구역별 충전소 수\n",
    "# d_26[\"charger_count\"] = d_26.apply(\n",
    "#     lambda row: count_chargers_nearby(row, chargers), axis=1\n",
    "# )\n"
   ]
  },
  {
   "cell_type": "code",
   "execution_count": null,
   "id": "dcd62a96-cc8b-49f8-a658-5cb216b0213c",
   "metadata": {},
   "outputs": [],
   "source": [
    "# 수요-공급 차이 계산\n",
    "d_26[\"gap\"] = d_26[\"이동경로량\"] - d_26[\"charger_count\"]\n",
    "d_26.head()"
   ]
  },
  {
   "cell_type": "code",
   "execution_count": null,
   "id": "4855ede4-e104-40ba-bede-4a3d60fd82aa",
   "metadata": {},
   "outputs": [],
   "source": [
    "# 수요-공급 차이 계산\n",
    "d_26[\"gap\"] = d_26[\"이동경로량\"] - d_26[\"charger_count\"]\n",
    "\n",
    "#signed logrithimic scaling \n",
    "def signed_log(x):\n",
    "    return np.sign(x) * np.log1p(abs(x))\n",
    "\n",
    "d_26[\"gap_signedlog\"] = d_26[\"gap\"].apply(signed_log)"
   ]
  },
  {
   "cell_type": "code",
   "execution_count": null,
   "id": "f0bedd52-107b-4866-b9a2-eefdc1415113",
   "metadata": {},
   "outputs": [],
   "source": [
    "d_26.head()"
   ]
  },
  {
   "cell_type": "code",
   "execution_count": null,
   "id": "0bd1acfc-b251-4ab4-b2f8-61d0f8a0ef47",
   "metadata": {},
   "outputs": [],
   "source": [
    "d_26.to_csv(\"26년도_수요-이동량_스케일링.csv\",index=False, encoding=\"utf-8-sig\")"
   ]
  },
  {
   "cell_type": "code",
   "execution_count": null,
   "id": "e674b31d-1637-4b1b-afb0-45682a15e2c1",
   "metadata": {},
   "outputs": [],
   "source": [
    "d_26[\"gap_signedlog_emph\"] = d_26[\"gap_signedlog\"].apply(lambda x: np.sign(x) * (abs(x) ** 1.5))\n",
    "d_26[\"gap_size\"] = d_26[\"gap_signedlog_emph\"].abs()\n",
    "\n",
    "# 상위 10%, 하위 10% 추출\n",
    "upper_10_26 = d_26[d_26[\"gap_signedlog_emph\"] >= d_26[\"gap_signedlog_emph\"].quantile(0.9)]\n",
    "lower_10_26 = d_26[d_26[\"gap_signedlog_emph\"] <= d_26[\"gap_signedlog_emph\"].quantile(0.1)]\n",
    "filtered_26 = pd.concat([upper_10_26, lower_10_26])\n",
    "\n",
    "# 지도 시각화\n",
    "fig = px.scatter_mapbox(\n",
    "    filtered_26,\n",
    "    lat=\"lat\",\n",
    "    lon=\"lon\",\n",
    "    color=\"gap_signedlog_emph\",\n",
    "    color_continuous_scale=\"PrGN\",\n",
    "    color_continuous_midpoint=0,\n",
    "    size_max=20,\n",
    "    zoom=10,\n",
    "    hover_data={\n",
    "        \"gap_signedlog_emph\": True,\n",
    "        \"이동경로량\": True,\n",
    "        \"charger_count\": True,\n",
    "        \"lat\": False,\n",
    "        \"lon\": False\n",
    "    },\n",
    "    title=\"EV 격차 상/하위 10% + 충전소 + 공영주차장 (2021년)\"\n",
    ")\n",
    "\n",
    "# 공영주차장 핀 추가\n",
    "fig.add_trace(go.Scattermapbox(\n",
    "    lat=pk[\"lat\"],\n",
    "    lon=pk[\"lon\"],\n",
    "    mode=\"markers\",\n",
    "    marker=go.scattermapbox.Marker(size=3, color=\"yellow\"),\n",
    "    text=pk[\"주차장명\"],\n",
    "    hoverinfo=\"text\",\n",
    "    name=\"공영주차장\"\n",
    "))\n",
    "\n",
    "# 지도 스타일 설정 및 저장\n",
    "fig.update_layout(\n",
    "    mapbox_style=\"carto-positron\",\n",
    "    mapbox_zoom=10\n",
    ")\n",
    "\n",
    "fig.write_html(\"격차_상하위10+충전소+공영주차장_2026.html\")\n",
    "fig.show()\n",
    "\n"
   ]
  },
  {
   "cell_type": "code",
   "execution_count": null,
   "id": "32042fe2-2bb6-4c29-b852-7f39dceb74b0",
   "metadata": {},
   "outputs": [],
   "source": []
  },
  {
   "cell_type": "markdown",
   "id": "8f21b036-edcb-44e8-81d2-b40c19a1b134",
   "metadata": {},
   "source": [
    "#### 30년 처리"
   ]
  },
  {
   "cell_type": "code",
   "execution_count": null,
   "id": "5d9d2da4-df58-439f-9f8d-a96290e865d7",
   "metadata": {},
   "outputs": [],
   "source": [
    "#21년도 수요\n",
    "d_30 = df_heats_filtered['30'].copy()\n",
    "d_30.columns\n",
    "\n",
    "#21년도 수요 \n",
    "d_30.rename(\n",
    "    columns = {\n",
    "        \"value\" : \"이동경로량\"\n",
    "},inplace = True\n",
    ")"
   ]
  },
  {
   "cell_type": "code",
   "execution_count": null,
   "id": "33a54e3b-27de-4fed-bc55-8876170125c3",
   "metadata": {},
   "outputs": [],
   "source": [
    "# 행정구역별 충전소 수\n",
    "d_30[\"charger_count\"] = d_30.apply(\n",
    "    lambda row: count_chargers_nearby(row, chargers), axis=1\n",
    ")"
   ]
  },
  {
   "cell_type": "code",
   "execution_count": null,
   "id": "bbd293a4-4313-4be2-a6e4-d283c4dfefc8",
   "metadata": {},
   "outputs": [],
   "source": [
    "# 수요-공급 차이 계산\n",
    "d_30[\"gap\"] = d_30[\"이동경로량\"] - d_30[\"charger_count\"]\n",
    "\n",
    "#signed logrithimic scaling \n",
    "def signed_log(x):\n",
    "    return np.sign(x) * np.log1p(abs(x))\n",
    "\n",
    "d_30[\"gap_signedlog\"] = d_30[\"gap\"].apply(signed_log)"
   ]
  },
  {
   "cell_type": "code",
   "execution_count": null,
   "id": "937fe075-e9e5-41c4-96c0-21075fd840ec",
   "metadata": {},
   "outputs": [],
   "source": [
    "d_30.to_csv(\"30년도_수요-이동량_스케일링.csv\",index=False, encoding=\"utf-8-sig\")"
   ]
  },
  {
   "cell_type": "code",
   "execution_count": null,
   "id": "e9852893-25ee-49b6-9f1f-3b0d59c87dd6",
   "metadata": {},
   "outputs": [],
   "source": [
    "d_30[\"gap_signedlog_emph\"] = d_30[\"gap_signedlog\"].apply(lambda x: np.sign(x) * (abs(x) ** 1.5))\n",
    "d_30[\"gap_size\"] = d_30[\"gap_signedlog_emph\"].abs()\n",
    "\n",
    "# 상위 10%, 하위 10% 추출\n",
    "upper_10_30 = d_30[d_30[\"gap_signedlog_emph\"] >= d_30[\"gap_signedlog_emph\"].quantile(0.9)]\n",
    "lower_10_30 = d_30[d_30[\"gap_signedlog_emph\"] <= d_30[\"gap_signedlog_emph\"].quantile(0.1)]\n",
    "filtered_30 = pd.concat([upper_10_30, lower_10_30])\n",
    "\n",
    "# 지도 시각화\n",
    "fig = px.scatter_mapbox(\n",
    "    filtered_30,\n",
    "    lat=\"lat\",\n",
    "    lon=\"lon\",\n",
    "    color=\"gap_signedlog_emph\",\n",
    "    color_continuous_scale=\"PrGN\",\n",
    "    color_continuous_midpoint=0,\n",
    "    size_max=20,\n",
    "    zoom=10,\n",
    "    hover_data={\n",
    "        \"gap_signedlog_emph\": True,\n",
    "        \"이동경로량\": True,\n",
    "        \"charger_count\": True,\n",
    "        \"lat\": False,\n",
    "        \"lon\": False\n",
    "    },\n",
    "    title=\"EV 격차 상/하위 10% + 충전소 + 공영주차장 (2021년)\"\n",
    ")\n",
    "\n",
    "# 공영주차장 핀 추가\n",
    "fig.add_trace(go.Scattermapbox(\n",
    "    lat=pk[\"lat\"],\n",
    "    lon=pk[\"lon\"],\n",
    "    mode=\"markers\",\n",
    "    marker=go.scattermapbox.Marker(size=3, color=\"yellow\"),\n",
    "    text=pk[\"주차장명\"],\n",
    "    hoverinfo=\"text\",\n",
    "    name=\"공영주차장\"\n",
    "))\n",
    "\n",
    "# 지도 스타일 설정 및 저장\n",
    "fig.update_layout(\n",
    "    mapbox_style=\"carto-positron\",\n",
    "    mapbox_zoom=10\n",
    ")\n",
    "\n",
    "fig.write_html(\"격차_상하위10+충전소+공영주차장_2030.html\")\n",
    "fig.show()\n",
    "\n"
   ]
  },
  {
   "cell_type": "code",
   "execution_count": null,
   "id": "402ad887-4a6d-4aa8-b955-ce7f1e910b14",
   "metadata": {},
   "outputs": [],
   "source": []
  },
  {
   "cell_type": "code",
   "execution_count": null,
   "id": "41229b88-968d-40bb-b9e9-f1a2eddab16c",
   "metadata": {},
   "outputs": [],
   "source": []
  },
  {
   "cell_type": "code",
   "execution_count": null,
   "id": "5f039ef5-3bb8-49ed-91e1-f0fc9d12a50a",
   "metadata": {},
   "outputs": [],
   "source": []
  },
  {
   "cell_type": "code",
   "execution_count": null,
   "id": "22171c15-c89e-4640-9a8d-2d76fb2d964c",
   "metadata": {},
   "outputs": [],
   "source": []
  },
  {
   "cell_type": "code",
   "execution_count": null,
   "id": "3bdfc66e-4a63-4765-aabf-3a1563132c74",
   "metadata": {},
   "outputs": [],
   "source": []
  }
 ],
 "metadata": {
  "kernelspec": {
   "display_name": "Python [conda env:base] *",
   "language": "python",
   "name": "conda-base-py"
  },
  "language_info": {
   "codemirror_mode": {
    "name": "ipython",
    "version": 3
   },
   "file_extension": ".py",
   "mimetype": "text/x-python",
   "name": "python",
   "nbconvert_exporter": "python",
   "pygments_lexer": "ipython3",
   "version": "3.12.7"
  }
 },
 "nbformat": 4,
 "nbformat_minor": 5
}
