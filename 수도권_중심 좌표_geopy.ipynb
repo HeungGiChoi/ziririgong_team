{
 "cells": [
  {
   "cell_type": "code",
   "execution_count": 16,
   "id": "cf2bda10-8394-4ca4-b5e2-fb437800cadf",
   "metadata": {
    "scrolled": true
   },
   "outputs": [
    {
     "name": "stdout",
     "output_type": "stream",
     "text": [
      "Collecting geopy\n",
      "  Downloading geopy-2.4.1-py3-none-any.whl.metadata (6.8 kB)\n",
      "Collecting geographiclib<3,>=1.52 (from geopy)\n",
      "  Downloading geographiclib-2.0-py3-none-any.whl.metadata (1.4 kB)\n",
      "Downloading geopy-2.4.1-py3-none-any.whl (125 kB)\n",
      "Downloading geographiclib-2.0-py3-none-any.whl (40 kB)\n",
      "Installing collected packages: geographiclib, geopy\n",
      "Successfully installed geographiclib-2.0 geopy-2.4.1\n"
     ]
    }
   ],
   "source": [
    "!pip install geopy"
   ]
  },
  {
   "cell_type": "code",
   "execution_count": 3,
   "id": "0e713e13-3885-4baa-aa75-2d179c495b3e",
   "metadata": {},
   "outputs": [],
   "source": [
    "import pandas as pd\n",
    "from geopy.geocoders import Nominatim\n",
    "from geopy.extra.rate_limiter import RateLimiter\n",
    "import time"
   ]
  },
  {
   "cell_type": "code",
   "execution_count": 17,
   "id": "aaff21f4-3766-47ee-8cf1-6e8914ce2bab",
   "metadata": {},
   "outputs": [
    {
     "data": {
      "text/html": [
       "<div>\n",
       "<style scoped>\n",
       "    .dataframe tbody tr th:only-of-type {\n",
       "        vertical-align: middle;\n",
       "    }\n",
       "\n",
       "    .dataframe tbody tr th {\n",
       "        vertical-align: top;\n",
       "    }\n",
       "\n",
       "    .dataframe thead th {\n",
       "        text-align: right;\n",
       "    }\n",
       "</style>\n",
       "<table border=\"1\" class=\"dataframe\">\n",
       "  <thead>\n",
       "    <tr style=\"text-align: right;\">\n",
       "      <th></th>\n",
       "      <th>Unnamed: 0</th>\n",
       "      <th>출발 행정동 코드</th>\n",
       "      <th>도착 행정동 코드</th>\n",
       "      <th>출발 행정동 주소</th>\n",
       "      <th>도착 행정동 주소</th>\n",
       "    </tr>\n",
       "  </thead>\n",
       "  <tbody>\n",
       "    <tr>\n",
       "      <th>0</th>\n",
       "      <td>0</td>\n",
       "      <td>1101053</td>\n",
       "      <td>1101053</td>\n",
       "      <td>서울특별시 종로구 사직동</td>\n",
       "      <td>서울특별시 종로구 사직동</td>\n",
       "    </tr>\n",
       "    <tr>\n",
       "      <th>1</th>\n",
       "      <td>1</td>\n",
       "      <td>1101053</td>\n",
       "      <td>1101053</td>\n",
       "      <td>서울특별시 종로구 사직동</td>\n",
       "      <td>서울특별시 종로구 사직동</td>\n",
       "    </tr>\n",
       "    <tr>\n",
       "      <th>2</th>\n",
       "      <td>2</td>\n",
       "      <td>1101053</td>\n",
       "      <td>1101053</td>\n",
       "      <td>서울특별시 종로구 사직동</td>\n",
       "      <td>서울특별시 종로구 사직동</td>\n",
       "    </tr>\n",
       "    <tr>\n",
       "      <th>3</th>\n",
       "      <td>3</td>\n",
       "      <td>1101053</td>\n",
       "      <td>1101053</td>\n",
       "      <td>서울특별시 종로구 사직동</td>\n",
       "      <td>서울특별시 종로구 사직동</td>\n",
       "    </tr>\n",
       "    <tr>\n",
       "      <th>4</th>\n",
       "      <td>4</td>\n",
       "      <td>1101053</td>\n",
       "      <td>1101053</td>\n",
       "      <td>서울특별시 종로구 사직동</td>\n",
       "      <td>서울특별시 종로구 사직동</td>\n",
       "    </tr>\n",
       "  </tbody>\n",
       "</table>\n",
       "</div>"
      ],
      "text/plain": [
       "   Unnamed: 0  출발 행정동 코드  도착 행정동 코드      출발 행정동 주소      도착 행정동 주소\n",
       "0           0    1101053    1101053  서울특별시 종로구 사직동  서울특별시 종로구 사직동\n",
       "1           1    1101053    1101053  서울특별시 종로구 사직동  서울특별시 종로구 사직동\n",
       "2           2    1101053    1101053  서울특별시 종로구 사직동  서울특별시 종로구 사직동\n",
       "3           3    1101053    1101053  서울특별시 종로구 사직동  서울특별시 종로구 사직동\n",
       "4           4    1101053    1101053  서울특별시 종로구 사직동  서울특별시 종로구 사직동"
      ]
     },
     "execution_count": 17,
     "metadata": {},
     "output_type": "execute_result"
    }
   ],
   "source": [
    "# CSV 파일 로드\n",
    "df = pd.read_csv(\"metropoli.csv\")\n",
    "df.head()"
   ]
  },
  {
   "cell_type": "code",
   "execution_count": 18,
   "id": "da800a58-2511-4470-a837-bc9426d51fee",
   "metadata": {},
   "outputs": [
    {
     "data": {
      "text/plain": [
       "(14680050, 4)"
      ]
     },
     "execution_count": 18,
     "metadata": {},
     "output_type": "execute_result"
    }
   ],
   "source": [
    "df = df.iloc[:, 1: 5]\n",
    "df.shape"
   ]
  },
  {
   "cell_type": "code",
   "execution_count": 19,
   "id": "bab65f8c-4d83-4800-a6d6-3f19966207fb",
   "metadata": {},
   "outputs": [
    {
     "data": {
      "text/html": [
       "<div>\n",
       "<style scoped>\n",
       "    .dataframe tbody tr th:only-of-type {\n",
       "        vertical-align: middle;\n",
       "    }\n",
       "\n",
       "    .dataframe tbody tr th {\n",
       "        vertical-align: top;\n",
       "    }\n",
       "\n",
       "    .dataframe thead th {\n",
       "        text-align: right;\n",
       "    }\n",
       "</style>\n",
       "<table border=\"1\" class=\"dataframe\">\n",
       "  <thead>\n",
       "    <tr style=\"text-align: right;\">\n",
       "      <th></th>\n",
       "      <th>출발 행정동 코드</th>\n",
       "      <th>도착 행정동 코드</th>\n",
       "      <th>출발 행정동 주소</th>\n",
       "      <th>도착 행정동 주소</th>\n",
       "    </tr>\n",
       "  </thead>\n",
       "  <tbody>\n",
       "    <tr>\n",
       "      <th>0</th>\n",
       "      <td>1101053</td>\n",
       "      <td>1101053</td>\n",
       "      <td>서울특별시 종로구 사직동</td>\n",
       "      <td>서울특별시 종로구 사직동</td>\n",
       "    </tr>\n",
       "    <tr>\n",
       "      <th>1</th>\n",
       "      <td>1101053</td>\n",
       "      <td>1101053</td>\n",
       "      <td>서울특별시 종로구 사직동</td>\n",
       "      <td>서울특별시 종로구 사직동</td>\n",
       "    </tr>\n",
       "    <tr>\n",
       "      <th>2</th>\n",
       "      <td>1101053</td>\n",
       "      <td>1101053</td>\n",
       "      <td>서울특별시 종로구 사직동</td>\n",
       "      <td>서울특별시 종로구 사직동</td>\n",
       "    </tr>\n",
       "    <tr>\n",
       "      <th>3</th>\n",
       "      <td>1101053</td>\n",
       "      <td>1101053</td>\n",
       "      <td>서울특별시 종로구 사직동</td>\n",
       "      <td>서울특별시 종로구 사직동</td>\n",
       "    </tr>\n",
       "    <tr>\n",
       "      <th>4</th>\n",
       "      <td>1101053</td>\n",
       "      <td>1101053</td>\n",
       "      <td>서울특별시 종로구 사직동</td>\n",
       "      <td>서울특별시 종로구 사직동</td>\n",
       "    </tr>\n",
       "  </tbody>\n",
       "</table>\n",
       "</div>"
      ],
      "text/plain": [
       "   출발 행정동 코드  도착 행정동 코드      출발 행정동 주소      도착 행정동 주소\n",
       "0    1101053    1101053  서울특별시 종로구 사직동  서울특별시 종로구 사직동\n",
       "1    1101053    1101053  서울특별시 종로구 사직동  서울특별시 종로구 사직동\n",
       "2    1101053    1101053  서울특별시 종로구 사직동  서울특별시 종로구 사직동\n",
       "3    1101053    1101053  서울특별시 종로구 사직동  서울특별시 종로구 사직동\n",
       "4    1101053    1101053  서울특별시 종로구 사직동  서울특별시 종로구 사직동"
      ]
     },
     "execution_count": 19,
     "metadata": {},
     "output_type": "execute_result"
    }
   ],
   "source": [
    "df.head()"
   ]
  },
  {
   "cell_type": "code",
   "execution_count": 27,
   "id": "17536692-4d39-4717-b7e2-ba23ae919df8",
   "metadata": {},
   "outputs": [],
   "source": [
    "# 1. Geocoder setup\n",
    "geolocator = Nominatim(user_agent=\"metro_coder\")  # change app name if needed\n",
    "geocode = RateLimiter(geolocator.geocode, min_delay_seconds=1)"
   ]
  },
  {
   "cell_type": "code",
   "execution_count": 29,
   "id": "2664ce66-b317-495a-b1a7-467e0ca5a1e7",
   "metadata": {},
   "outputs": [],
   "source": [
    "# 2. Caching dictionary\n",
    "geo_cache = {}"
   ]
  },
  {
   "cell_type": "code",
   "execution_count": 31,
   "id": "579cac1b-abde-45a5-929e-075512127778",
   "metadata": {},
   "outputs": [],
   "source": [
    "# 3. Function to get lat/lon with caching\n",
    "def get_lat_lon_cached(address):\n",
    "    if pd.isna(address):\n",
    "        return pd.Series([None, None])\n",
    "    \n",
    "    if address in geo_cache:\n",
    "        return geo_cache[address]\n",
    "    \n",
    "    try:\n",
    "        location = geocode(address)\n",
    "        if location:\n",
    "            result = pd.Series([location.latitude, location.longitude])\n",
    "        else:\n",
    "            result = pd.Series([None, None])\n",
    "    except Exception as e:\n",
    "        print(f\"Error for {address}: {e}\")\n",
    "        result = pd.Series([None, None])\n",
    "    \n",
    "    geo_cache[address] = result\n",
    "    return result\n",
    "\n"
   ]
  },
  {
   "cell_type": "code",
   "execution_count": 27,
   "id": "fcd5e0ab-a9c1-4b81-8b7c-602a3df89c32",
   "metadata": {},
   "outputs": [
    {
     "name": "stdout",
     "output_type": "stream",
     "text": [
      "          출발행정코드      출발도   출발시  출발동             출발 주소      도착행정코드      도착도  \\\n",
      "0     5013059000  제주특별자치도  서귀포시  대륜동  제주특별자치도 서귀포시 대륜동  5013054000  제주특별자치도   \n",
      "1     5013054000  제주특별자치도  서귀포시  천지동  제주특별자치도 서귀포시 천지동  5013057000  제주특별자치도   \n",
      "2     5013057000  제주특별자치도  서귀포시  동홍동  제주특별자치도 서귀포시 동홍동  5013054000  제주특별자치도   \n",
      "3     5013054000  제주특별자치도  서귀포시  천지동  제주특별자치도 서귀포시 천지동  5013059000  제주특별자치도   \n",
      "4     5011062000  제주특별자치도   제주시  봉개동   제주특별자치도 제주시 봉개동  5011059000  제주특별자치도   \n",
      "...          ...      ...   ...  ...               ...         ...      ...   \n",
      "4987  5011067000  제주특별자치도   제주시  외도동   제주특별자치도 제주시 외도동  5011069000  제주특별자치도   \n",
      "4988  5013055000  제주특별자치도  서귀포시  효돈동  제주특별자치도 서귀포시 효돈동  5013025300  제주특별자치도   \n",
      "4989  5013025300  제주특별자치도  서귀포시  남원읍  제주특별자치도 서귀포시 남원읍  5013055000  제주특별자치도   \n",
      "4990  5011066000  제주특별자치도   제주시  노형동   제주특별자치도 제주시 노형동  5011069000  제주특별자치도   \n",
      "4991  5011069000  제주특별자치도   제주시  도두동   제주특별자치도 제주시 도두동  5011066000  제주특별자치도   \n",
      "\n",
      "       도착시  도착동             도착 주소  start_lat   start_lon  \n",
      "0     서귀포시  천지동  제주특별자치도 서귀포시 천지동  33.281949  126.521936  \n",
      "1     서귀포시  동홍동  제주특별자치도 서귀포시 동홍동  33.238197  126.552760  \n",
      "2     서귀포시  천지동  제주특별자치도 서귀포시 천지동  33.261840  126.568040  \n",
      "3     서귀포시  대륜동  제주특별자치도 서귀포시 대륜동  33.238197  126.552760  \n",
      "4      제주시  건입동   제주특별자치도 제주시 건입동  33.484188  126.599350  \n",
      "...    ...  ...               ...        ...         ...  \n",
      "4987   제주시  도두동   제주특별자치도 제주시 도두동  33.491979  126.434887  \n",
      "4988  서귀포시  남원읍  제주특별자치도 서귀포시 남원읍  33.253131  126.616336  \n",
      "4989  서귀포시  효돈동  제주특별자치도 서귀포시 효돈동  33.307668  126.690748  \n",
      "4990   제주시  도두동   제주특별자치도 제주시 도두동  33.478125  126.475487  \n",
      "4991   제주시  노형동   제주특별자치도 제주시 노형동  33.510034  126.473526  \n",
      "\n",
      "[4992 rows x 12 columns]\n"
     ]
    }
   ],
   "source": [
    "# 5. Apply geocoding\n",
    "df[['출발_lat', '출발_lon']] = df['출발 행정동 주소'].apply(get_lat_lon_cached)\n",
    "\n",
    "# 6. View result\n",
    "print(df.head())"
   ]
  },
  {
   "cell_type": "code",
   "execution_count": null,
   "id": "7af2286f-915c-48e2-a433-171385199a7a",
   "metadata": {},
   "outputs": [],
   "source": [
    "df[['도착_lat', '도착_lon']] = df['도착 행정동 주소'].apply(get_lat_lon_cached)"
   ]
  },
  {
   "cell_type": "code",
   "execution_count": null,
   "id": "9e42f00f-21e6-4a6c-8bd4-14d55652f2a0",
   "metadata": {},
   "outputs": [],
   "source": [
    "# 출발/도착 위경도\n",
    "df[['start_lat', 'start_lon']] = df['출발 주소'].apply(get_lat_lon)\n",
    "df[['end_lat', 'end_lon']] = df['도착 주소'].apply(get_lat_lon)\n",
    "\n",
    "# 중심 좌표\n",
    "df['중심_lat'] = (df['start_lat'] + df['end_lat']) / 2\n",
    "df['중심_lon'] = (df['start_lon'] + df['end_lon']) / 2\n",
    "\n",
    "print(df['중심_lat'])\n",
    "print(df['중심_lon'])"
   ]
  },
  {
   "cell_type": "code",
   "execution_count": null,
   "id": "0d00d96b-9220-4c84-bc80-54c0cc7255aa",
   "metadata": {},
   "outputs": [],
   "source": []
  }
 ],
 "metadata": {
  "kernelspec": {
   "display_name": "Python [conda env:base] *",
   "language": "python",
   "name": "conda-base-py"
  },
  "language_info": {
   "codemirror_mode": {
    "name": "ipython",
    "version": 3
   },
   "file_extension": ".py",
   "mimetype": "text/x-python",
   "name": "python",
   "nbconvert_exporter": "python",
   "pygments_lexer": "ipython3",
   "version": "3.12.7"
  }
 },
 "nbformat": 4,
 "nbformat_minor": 5
}
