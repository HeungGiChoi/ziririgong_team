{
 "cells": [
  {
   "cell_type": "markdown",
   "id": "4fbf932e-f9e3-4eab-9322-ce0f61de023c",
   "metadata": {},
   "source": [
    "## Geopandas"
   ]
  },
  {
   "cell_type": "code",
   "execution_count": 1,
   "id": "24bf1006-1e91-414e-86af-ac9b838d4f1d",
   "metadata": {
    "collapsed": true,
    "jupyter": {
     "outputs_hidden": true
    },
    "scrolled": true
   },
   "outputs": [
    {
     "name": "stdout",
     "output_type": "stream",
     "text": [
      "Requirement already satisfied: geopandas in c:\\temp\\anaconda3\\lib\\site-packages (1.0.1)\n",
      "Requirement already satisfied: numpy>=1.22 in c:\\temp\\anaconda3\\lib\\site-packages (from geopandas) (1.26.4)\n",
      "Requirement already satisfied: pyogrio>=0.7.2 in c:\\temp\\anaconda3\\lib\\site-packages (from geopandas) (0.10.0)\n",
      "Requirement already satisfied: packaging in c:\\temp\\anaconda3\\lib\\site-packages (from geopandas) (24.1)\n",
      "Requirement already satisfied: pandas>=1.4.0 in c:\\temp\\anaconda3\\lib\\site-packages (from geopandas) (2.2.2)\n",
      "Requirement already satisfied: pyproj>=3.3.0 in c:\\temp\\anaconda3\\lib\\site-packages (from geopandas) (3.7.1)\n",
      "Requirement already satisfied: shapely>=2.0.0 in c:\\temp\\anaconda3\\lib\\site-packages (from geopandas) (2.1.0)\n",
      "Requirement already satisfied: python-dateutil>=2.8.2 in c:\\temp\\anaconda3\\lib\\site-packages (from pandas>=1.4.0->geopandas) (2.9.0.post0)\n",
      "Requirement already satisfied: pytz>=2020.1 in c:\\temp\\anaconda3\\lib\\site-packages (from pandas>=1.4.0->geopandas) (2024.1)\n",
      "Requirement already satisfied: tzdata>=2022.7 in c:\\temp\\anaconda3\\lib\\site-packages (from pandas>=1.4.0->geopandas) (2023.3)\n",
      "Requirement already satisfied: certifi in c:\\temp\\anaconda3\\lib\\site-packages (from pyogrio>=0.7.2->geopandas) (2025.1.31)\n",
      "Requirement already satisfied: six>=1.5 in c:\\temp\\anaconda3\\lib\\site-packages (from python-dateutil>=2.8.2->pandas>=1.4.0->geopandas) (1.16.0)\n",
      "Note: you may need to restart the kernel to use updated packages.\n"
     ]
    }
   ],
   "source": [
    "pip install geopandas"
   ]
  },
  {
   "cell_type": "code",
   "execution_count": 10,
   "id": "9f660039-a3d0-4491-966d-d132525c44db",
   "metadata": {},
   "outputs": [
    {
     "name": "stdout",
     "output_type": "stream",
     "text": [
      "EPSG:5186\n",
      "          충전소명                    주소    ADM_CD       ADM_NM\n",
      "0     낙성대동주민센터   서울특별시 관악구 낙성대로4가길 5  11240780         잠실7동\n",
      "1     롯데마트 중계점     서울특별시 노원구 노원로 330  11220670         양재2동\n",
      "2       서울추모공원  서울특별시 서초구 양재대로12길 74  11220670         양재2동\n",
      "3  아시아공원 공영주차장      서울특별시 송파구 잠실동 84  11240780         잠실7동\n",
      "4  아시아공원 공영주차장      서울특별시 송파구 잠실동 84  11010610  종로1·2·3·4가동\n"
     ]
    }
   ],
   "source": [
    "import geopandas as gpd # 지리정보에 특화된 데이터 구조와 기능을 제공하는 라이브러리\n",
    "import pandas as pd\n",
    "from shapely.geometry import Point # 지리 데이터를 기하학적 객체타입으로 표현하는 라이브러리/ 점(point)를 사용\n",
    "\n",
    "# 압축 해제 후 .shp 파일 경로 지정\n",
    "dong_gdf = gpd.read_file(\"C:\\\\Users\\\\choi heung ki\\\\BND_ADM_DONG_PG.shp\")\n",
    "\n",
    "# 좌표계 확인\n",
    "print(dong_gdf.crs) # EPSG:5186 -> 투영좌표계\n",
    "\n",
    "# 좌표계를 WGS84로 변환\n",
    "dong_gdf = dong_gdf.to_crs(epsg=4326) # GPS 시스템 표준, 위/경도로 좌표값 나타냄\n",
    "# Folium, plotly, Mapbox와 같은 웹기반 지도는 대부분 EPSG:4326형식을 사용\n",
    "\n",
    "df_seoul = pd.read_csv(\"서울_충전소_좌표추가_전체_cleaned.csv\")\n",
    "\n",
    "# 위도, 경도를 이용해 Point 객체 생성\n",
    "df_seoul['geometry'] = df_seoul.apply(lambda row: Point(row['경도'], row['위도']), axis=1) # 위/경도 데이터를 넣어 shapely의 point 객체를 생성\n",
    "\n",
    "# GeoDataFrame으로 변환 (WGS84 사용)\n",
    "# GeoDataFrame에는 geometry(지리적 객체)값을 담은 열이 꼭 하나 존재해야 한다.\n",
    "gdf_seoul = gpd.GeoDataFrame(df_seoul, geometry='geometry', crs='EPSG:4326') \n",
    "\n",
    "# 공간 조인: 충전소가 포함된 행정동 정보를 병합\n",
    "# predicate='within'으로 point 객체가 폴리곤 경계 내부에 위치하는지 GEOS 라이브러리를 통해 확인\n",
    "gdf_joined = gpd.sjoin(gdf_seoul, dong_gdf[['ADM_CD', 'ADM_NM', 'geometry']], how='left', predicate='within')\n",
    "\n",
    "# 결과 확인\n",
    "print(gdf_joined[['충전소명', '주소', 'ADM_CD', 'ADM_NM']].head())\n",
    "\n",
    "gdf_joined.to_csv(\"서울_충전소_행정동포함_new.csv\", index=False, encoding='utf-8-sig')"
   ]
  },
  {
   "cell_type": "markdown",
   "id": "a1488e59-16a9-482c-83f7-63e69ca89b94",
   "metadata": {},
   "source": [
    "## 전체 데이터(수도권 + 제주도)에 행정동 코드/이름 추가"
   ]
  },
  {
   "cell_type": "code",
   "execution_count": 12,
   "id": "f2390074-7770-4c46-8d49-56c508a46d52",
   "metadata": {},
   "outputs": [
    {
     "name": "stdout",
     "output_type": "stream",
     "text": [
      "          충전소명                    주소    ADM_CD       ADM_NM\n",
      "0     낙성대동주민센터   서울특별시 관악구 낙성대로4가길 5  11240780         잠실7동\n",
      "1     롯데마트 중계점     서울특별시 노원구 노원로 330  11220670         양재2동\n",
      "2       서울추모공원  서울특별시 서초구 양재대로12길 74  11220670         양재2동\n",
      "3  아시아공원 공영주차장      서울특별시 송파구 잠실동 84  11240780         잠실7동\n",
      "4  아시아공원 공영주차장      서울특별시 송파구 잠실동 84  11010610  종로1·2·3·4가동\n"
     ]
    }
   ],
   "source": [
    "df = pd.read_csv(\"전국_충전소_좌표통합.csv\")\n",
    "\n",
    "df['geometry'] = df.apply(lambda row: Point(row['경도'], row['위도']), axis=1)\n",
    "gdf_all = gpd.GeoDataFrame(df, geometry='geometry', crs='EPSG:4326')\n",
    "\n",
    "# 공간 조인: 충전소가 포함된 행정동 정보를 병합\n",
    "gdf_joined = gpd.sjoin(gdf_all, dong_gdf[['ADM_CD', 'ADM_NM', 'geometry']], how='left', predicate='within')\n",
    "\n",
    "# 결과 확인\n",
    "print(gdf_joined[['충전소명', '주소', 'ADM_CD', 'ADM_NM']].head())\n",
    "\n",
    "gdf_joined.to_csv(\"전국_충전소_행정동포함_new.csv\", index=False, encoding='utf-8-sig')"
   ]
  },
  {
   "cell_type": "markdown",
   "id": "3e9ac94b-2e4f-4d45-8ed2-a198dbf28857",
   "metadata": {},
   "source": [
    "## 행정동별 충전소/충전기 갯수 파악"
   ]
  },
  {
   "cell_type": "code",
   "execution_count": 26,
   "id": "c099fd82-270e-4d9d-ad46-d1807f502db8",
   "metadata": {},
   "outputs": [],
   "source": [
    "df = pd.read_csv(\"전국_충전소_행정동포함_new.csv\")\n",
    "df = df[['ADM_CD', 'ADM_NM', '충전소명', '충전기ID']]\n",
    "df = df.dropna(subset=['ADM_CD', 'ADM_NM', '충전소명', '충전기ID']) # 결측값 제거\n",
    "df = df.drop_duplicates() # 중복 제거\n",
    "\n",
    "df_charger = df.groupby(['ADM_CD', 'ADM_NM'])['충전소명'].nunique().reset_index()\n",
    "df_charger.columns = ['ADM_CD', 'ADM_NM', '충전소수']\n",
    "\n",
    "df_connector = df.groupby(['ADM_CD', 'ADM_NM'])['충전기ID'].count().reset_index()\n",
    "df_connector.columns = ['ADM_CD', 'ADM_NM', '충전기수']\n",
    "\n",
    "df_result = pd.merge(df_charger, df_connector, on='ADM_CD')\n",
    "df_result.to_csv(\"행정동별_충전소_충전기_집계_new.csv\", index=False, encoding='utf-8-sig')"
   ]
  },
  {
   "cell_type": "markdown",
   "id": "0b65a527-81ff-4dc3-b16e-8b2e65f6363c",
   "metadata": {},
   "source": [
    "## 지역 컬럼 추가"
   ]
  },
  {
   "cell_type": "code",
   "execution_count": 32,
   "id": "bdbd8c81-33de-4f3e-8539-0e5ee6e4c319",
   "metadata": {},
   "outputs": [],
   "source": [
    "df = pd.read_csv(\"행정동별_충전소_충전기_집계_new.csv\", encoding=\"utf-8-sig\")\n",
    "# ADM_CD 문자열로 변환\n",
    "df['ADM_CD'] = df['ADM_CD'].astype(str)\n",
    "\n",
    "# 변환된 ADM_CD를 활용하여 지역(서울/경기/인천/제주) 구분\n",
    "def classify_region(adm_cd):\n",
    "    if adm_cd.startswith(\"11\"):\n",
    "        return \"서울\"\n",
    "    elif adm_cd.startswith(\"31\"):\n",
    "        return \"경기\"\n",
    "    elif adm_cd.startswith(\"23\"):\n",
    "        return \"인천\"\n",
    "    elif adm_cd.startswith(\"39\"):\n",
    "        return \"제주\"\n",
    "    else:\n",
    "        return \"기타\"  # 예: 32 (강원), 29 (부산), 등등\n",
    "\n",
    "# .apply()와 classify_region을 활용하여 지역 컬럼 추가\n",
    "df['지역'] = df['ADM_CD'].apply(classify_region)\n",
    "\n",
    "# ADM_CD가 32(강원)인 행 제거\n",
    "# ~(부정, not)을 사용해 adm_cd시작이 32가 true면 false로, false면 true로 바꿔서 df에 저장\n",
    "# 결과적으로 32(강원)이 아닌 행만 df에 저장\n",
    "df = df[~df['ADM_CD'].str.startswith(\"32\")] \n",
    "df.to_csv(\"행정동별_충전소_충전기_집계_지역포함_new.csv\", index=False, encoding=\"utf-8-sig\")\n"
   ]
  },
  {
   "cell_type": "markdown",
   "id": "6411821f-ded1-4340-a5f8-79508f40538e",
   "metadata": {},
   "source": [
    "### 행정동 중심좌표 추가"
   ]
  },
  {
   "cell_type": "code",
   "execution_count": 136,
   "id": "bcfc1acb-70e7-4930-b238-a82d895b3ba8",
   "metadata": {},
   "outputs": [
    {
     "name": "stdout",
     "output_type": "stream",
     "text": [
      "로드된 shp파일 컬럼:  Index(['BASE_DATE', 'ADM_CD', 'ADM_NM', 'geometry'], dtype='object')\n"
     ]
    }
   ],
   "source": [
    "gdf_adm_dong = gpd.read_file(\"C:\\\\Users\\\\choi heung ki\\\\BND_ADM_DONG_PG.shp\")\n",
    "print(\"로드된 shp파일 컬럼: \", gdf_adm_dong.columns)\n",
    "# shp파일의 ADM_CD컬럼을 str타입으로 변경\n",
    "gdf_adm_dong['ADM_CD'] = gdf_adm_dong['ADM_CD'].astype(str)\n",
    "\n",
    "accurate_centroids = gdf_adm_dong.copy()\n",
    "# centroid 메서드를 이용해 geometry에 있는 polygon 객체의 중심좌표 계산 후 x, y(경도, 위도)값 추출\n",
    "# 투영좌표계로 먼저 centroid계산을 해야 더 정확하므로, 계산 후 지리좌표계로 변경\n",
    "accurate_centroids['POINT'] = accurate_centroids.geometry.centroid\n",
    "accurate_centroids['POINT'] = accurate_centroids['POINT'].to_crs(epsg=4326)\n",
    "accurate_centroids['위도'] = accurate_centroids['POINT'].y\n",
    "accurate_centroids['경도'] = accurate_centroids['POINT'].x\n",
    "accurate_centroids = accurate_centroids[['ADM_CD', '위도', '경도']]\n",
    "\n",
    "df = pd.read_csv(\"행정동별_충전소_충전기_집계_지역포함_new.csv\", encoding='utf-8-sig')\n",
    "df['ADM_CD'] = df['ADM_CD'].astype(str)\n",
    "\n",
    "df_result = pd.merge(df, accurate_centroids, on='ADM_CD', how='left')\n",
    "df_result.to_csv(\"행정동별_충전소_충전기_집계_중심좌표포함_new.csv\", index=False, encoding='utf-8-sig')"
   ]
  },
  {
   "cell_type": "markdown",
   "id": "2f4528d7-b532-454e-8e41-6ef319ab5e3c",
   "metadata": {},
   "source": [
    "## 지도 시각화"
   ]
  },
  {
   "cell_type": "markdown",
   "id": "894d58ac-1490-4278-ae92-38e054be6e8c",
   "metadata": {},
   "source": [
    "### Plotley + Mapbox 활용 지도 시각화"
   ]
  },
  {
   "cell_type": "code",
   "execution_count": 1,
   "id": "8627a9e2-d8c3-4dbb-bb14-c907c67fdd27",
   "metadata": {
    "collapsed": true,
    "jupyter": {
     "outputs_hidden": true
    }
   },
   "outputs": [
    {
     "name": "stdout",
     "output_type": "stream",
     "text": [
      "Requirement already satisfied: plotly in c:\\temp\\anaconda3\\lib\\site-packages (5.24.1)Note: you may need to restart the kernel to use updated packages.\n",
      "\n",
      "Requirement already satisfied: pandas in c:\\temp\\anaconda3\\lib\\site-packages (2.2.2)\n",
      "Requirement already satisfied: tenacity>=6.2.0 in c:\\temp\\anaconda3\\lib\\site-packages (from plotly) (8.2.3)\n",
      "Requirement already satisfied: packaging in c:\\temp\\anaconda3\\lib\\site-packages (from plotly) (24.1)\n",
      "Requirement already satisfied: numpy>=1.26.0 in c:\\temp\\anaconda3\\lib\\site-packages (from pandas) (1.26.4)\n",
      "Requirement already satisfied: python-dateutil>=2.8.2 in c:\\temp\\anaconda3\\lib\\site-packages (from pandas) (2.9.0.post0)\n",
      "Requirement already satisfied: pytz>=2020.1 in c:\\temp\\anaconda3\\lib\\site-packages (from pandas) (2024.1)\n",
      "Requirement already satisfied: tzdata>=2022.7 in c:\\temp\\anaconda3\\lib\\site-packages (from pandas) (2023.3)\n",
      "Requirement already satisfied: six>=1.5 in c:\\temp\\anaconda3\\lib\\site-packages (from python-dateutil>=2.8.2->pandas) (1.16.0)\n"
     ]
    }
   ],
   "source": [
    "pip install plotly pandas"
   ]
  },
  {
   "cell_type": "code",
   "execution_count": 148,
   "id": "e9c17e8a-3391-434b-8afc-faa1c0f5c720",
   "metadata": {},
   "outputs": [],
   "source": [
    "import plotly.express as px # 고수준 Plotly API 모듈\n",
    "import plotly.io as pio # Plotly로 생성한 그래프, 각종 형식으로 저장하거나 표시하는데 관련된 기능을 제공하는 모듈\n",
    "\n",
    "# 데이터 불러오기\n",
    "df = pd.read_csv(\"행정동별_충전소_충전기_집계_중심좌표포함_new.csv\", encoding=\"utf-8-sig\")\n",
    "\n",
    "pio.renderers.default = 'browser'  # 또는 'browser' / 'iframe' 등 환경에 맞게\n",
    "# 아래 YOUR_TOKEN_HERE 자리에 mapbox에서 받은 토큰을 입력\n",
    "px.set_mapbox_access_token(\"YOUR_API_TOKEN\")\n",
    "\n",
    "fig = px.scatter_mapbox( # px.scatter_mapbox로 각종 지도 데이터가 담긴 fig 객체 생성\n",
    "    df,\n",
    "    lat=\"위도\",\n",
    "    lon=\"경도\",\n",
    "    size=\"충전기수\",        # 점의 크기\n",
    "    color=\"지역\",           # 색상 분류\n",
    "    hover_name=\"ADM_NM_x\",  # 툴팁에 뜨는 이름\n",
    "    hover_data=[\"충전소수\", \"충전기수\"],\n",
    "    size_max=25,\n",
    "    zoom=7,\n",
    "    title=\"행정동 중심 기반 전기차 충전기 밀도\"\n",
    ")\n",
    "\n",
    "fig.update_layout(mapbox_style=\"light\")  # 또는 \"open-street-map\", \"dark\", \"light\"\n",
    "fig.show()"
   ]
  },
  {
   "cell_type": "code",
   "execution_count": null,
   "id": "33a0ed63-d3bb-45f0-96d2-32778152d30f",
   "metadata": {},
   "outputs": [],
   "source": []
  },
  {
   "cell_type": "code",
   "execution_count": null,
   "id": "e828606d-d343-4e10-b9db-8249baeb75c3",
   "metadata": {},
   "outputs": [],
   "source": []
  },
  {
   "cell_type": "code",
   "execution_count": null,
   "id": "789ba728-a1b5-45a1-a68b-982d939a73d2",
   "metadata": {},
   "outputs": [],
   "source": []
  },
  {
   "cell_type": "code",
   "execution_count": null,
   "id": "06a0edd5-3834-4bff-b50f-cc3f9c6bc10b",
   "metadata": {},
   "outputs": [],
   "source": []
  },
  {
   "cell_type": "code",
   "execution_count": null,
   "id": "0eff671b-fc9c-4db2-8b69-0ad726704de9",
   "metadata": {},
   "outputs": [],
   "source": []
  },
  {
   "cell_type": "code",
   "execution_count": null,
   "id": "653bf55e-e67d-46b5-9941-c23c4103e920",
   "metadata": {},
   "outputs": [],
   "source": []
  },
  {
   "cell_type": "code",
   "execution_count": null,
   "id": "396ad736-45a1-4851-a118-15003f0b0534",
   "metadata": {},
   "outputs": [],
   "source": []
  },
  {
   "cell_type": "code",
   "execution_count": null,
   "id": "b9af9d9e-7a94-4d1a-9b8b-b9a07dade550",
   "metadata": {},
   "outputs": [],
   "source": []
  },
  {
   "cell_type": "code",
   "execution_count": null,
   "id": "f0b51554-4935-41d1-a2d5-7d3253379e57",
   "metadata": {},
   "outputs": [],
   "source": []
  }
 ],
 "metadata": {
  "kernelspec": {
   "display_name": "Python [conda env:base] *",
   "language": "python",
   "name": "conda-base-py"
  },
  "language_info": {
   "codemirror_mode": {
    "name": "ipython",
    "version": 3
   },
   "file_extension": ".py",
   "mimetype": "text/x-python",
   "name": "python",
   "nbconvert_exporter": "python",
   "pygments_lexer": "ipython3",
   "version": "3.12.7"
  }
 },
 "nbformat": 4,
 "nbformat_minor": 5
}
