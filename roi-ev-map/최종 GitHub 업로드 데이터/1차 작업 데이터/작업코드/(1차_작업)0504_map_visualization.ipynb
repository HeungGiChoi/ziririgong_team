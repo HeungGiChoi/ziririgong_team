{
 "cells": [
  {
   "cell_type": "markdown",
   "id": "8d7917c1-0481-4e44-b678-f3020138ae82",
   "metadata": {},
   "source": [
    "# 지오코딩_공급처(전기차 충전소) 지도 시각화 작업"
   ]
  },
  {
   "cell_type": "markdown",
   "id": "4d9819fe-0212-425e-b595-ad52fc369bef",
   "metadata": {},
   "source": [
    "### 데이터를 지도를 통해 직관적으로 확인할 수 있는 시각화를 원했다. 지도 시각화를 위한 각종 라이브러리를 사용하기 위해선 위/경도 추출이 꼭 필요했다."
   ]
  },
  {
   "cell_type": "markdown",
   "id": "935df226-ff8a-4e46-9aed-f29fc96f832d",
   "metadata": {},
   "source": [
    "### kakao map의 RESTful API를 활용하여, 주소값을 이용해 위/경도를 추출할 수 있다는걸 알게 됨."
   ]
  },
  {
   "cell_type": "code",
   "execution_count": 5,
   "id": "262b18e6-6a57-4240-8923-dd321a8fe359",
   "metadata": {},
   "outputs": [
    {
     "name": "stderr",
     "output_type": "stream",
     "text": [
      "100%|████████████████████████████████████████████████████████████████████████████| 46175/46175 [11:49<00:00, 65.12it/s]\n"
     ]
    },
    {
     "name": "stdout",
     "output_type": "stream",
     "text": [
      "✔️ 저장 완료: 서울_충전소_좌표추가.csv\n"
     ]
    }
   ],
   "source": [
    "import pandas as pd\n",
    "import requests\n",
    "from concurrent.futures import ThreadPoolExecutor, as_completed\n",
    "from tqdm import tqdm\n",
    "\n",
    "# 1. CSV 파일 불러오기 (예: 제주도 충전소 데이터)\n",
    "df = pd.read_csv(\"서울_충전소.csv\", encoding=\"utf-8-sig\")  # 파일명만 바꿔서 재사용 가능\n",
    "# 2. Kakao REST API 키 입력\n",
    "api_key = \"Your api key\"  # 여기에 발급받은 REST API 키를 입력\n",
    "\n",
    "# 3. 주소 → 위도/경도 요청 함수 정의\n",
    "def get_lat_lng(address, api_key):\n",
    "    try:\n",
    "        url = \"https://dapi.kakao.com/v2/local/search/address.json\"\n",
    "        headers = {\"Authorization\": f\"KakaoAK {api_key}\"}\n",
    "        params = {\"query\": address}\n",
    "        response = requests.get(url, headers=headers, params=params)\n",
    "\n",
    "        if response.status_code == 200:\n",
    "            result = response.json()\n",
    "            if result['documents']:\n",
    "                location = result['documents'][0]['address']\n",
    "                return location['y'], location['x']  # 위도(y), 경도(x)\n",
    "        return None, None\n",
    "    except Exception as e:\n",
    "        return None, None\n",
    "\n",
    "# 4. 주소 리스트 추출\n",
    "addresses = df[\"주소\"].tolist()\n",
    "\n",
    "# 5. 병렬 처리 시작\n",
    "lat_list, lng_list = [], []\n",
    "\n",
    "with ThreadPoolExecutor(max_workers=10) as executor:\n",
    "    futures = {executor.submit(get_lat_lng, addr, api_key): addr for addr in addresses}\n",
    "\n",
    "    for future in tqdm(as_completed(futures), total=len(futures)):\n",
    "        lat, lng = future.result()\n",
    "        lat_list.append(lat)\n",
    "        lng_list.append(lng)\n",
    "\n",
    "# 6. 결과 DataFrame에 추가\n",
    "df[\"위도\"] = lat_list\n",
    "df[\"경도\"] = lng_list\n",
    "\n",
    "# 7. 결과 저장\n",
    "df.to_csv(\"서울_충전소_좌표추가.csv\", index=False, encoding=\"utf-8-sig\")\n",
    "print(\"✔️ 저장 완료: 서울_충전소_좌표추가.csv\")\n"
   ]
  },
  {
   "cell_type": "code",
   "execution_count": 7,
   "id": "b82dcb16-54b6-4a13-a093-51b21f47019b",
   "metadata": {},
   "outputs": [
    {
     "name": "stdout",
     "output_type": "stream",
     "text": [
      "[None, None, None, None, None, None, None, None, None, None]\n",
      "[None, None, None, None, None, None, None, None, None, None]\n"
     ]
    }
   ],
   "source": [
    "print(lat_list[:10])  # 앞쪽 위도값 10개만 출력\n",
    "print(lng_list[:10])  # 앞쪽 경도값 10개만 출력"
   ]
  },
  {
   "cell_type": "code",
   "execution_count": 13,
   "id": "99393816-9b9d-4dfa-84e4-106a1abc4c62",
   "metadata": {},
   "outputs": [
    {
     "name": "stdout",
     "output_type": "stream",
     "text": [
      "응답코드: 200\n",
      "응답내용: {'documents': [{'address': {'address_name': '서울 강남구 역삼동 822-1', 'b_code': '1168010100', 'h_code': '1168064000', 'main_address_no': '822', 'mountain_yn': 'N', 'region_1depth_name': '서울', 'region_2depth_name': '강남구', 'region_3depth_h_name': '역삼1동', 'region_3depth_name': '역삼동', 'sub_address_no': '1', 'x': '127.028512212479', 'y': '37.4986639396111'}, 'address_name': '서울 강남구 역삼동 822-1', 'address_type': 'REGION_ADDR', 'road_address': {'address_name': '서울 강남구 테헤란로 105', 'building_name': '', 'main_building_no': '105', 'region_1depth_name': '서울', 'region_2depth_name': '강남구', 'region_3depth_name': '역삼동', 'road_name': '테헤란로', 'sub_building_no': '', 'underground_yn': 'N', 'x': '127.028529843894', 'y': '37.4986369952659', 'zone_no': '06134'}, 'x': '127.028512212479', 'y': '37.4986639396111'}], 'meta': {'is_end': True, 'pageable_count': 1, 'total_count': 1}}\n"
     ]
    }
   ],
   "source": [
    "# 디버깅 작업\n",
    "import requests\n",
    "\n",
    "def debug_lat_lng(address, api_key):\n",
    "    url = \"https://dapi.kakao.com/v2/local/search/address.json\"\n",
    "    headers = {\"Authorization\": f\"KakaoAK {api_key}\"}\n",
    "    params = {\"query\": address}\n",
    "\n",
    "    response = requests.get(url, headers=headers, params=params)\n",
    "    print(\"응답코드:\", response.status_code)\n",
    "    print(\"응답내용:\", response.json())\n",
    "\n",
    "# 예시 주소로 테스트\n",
    "api_key = \"your api key\"\n",
    "test_address = \"서울특별시 강남구 역삼동 822-1\"\n",
    "debug_lat_lng(test_address, api_key)\n"
   ]
  },
  {
   "cell_type": "code",
   "execution_count": 15,
   "id": "5985dfd6-7507-4753-8e5d-4f00186bae4a",
   "metadata": {},
   "outputs": [
    {
     "name": "stderr",
     "output_type": "stream",
     "text": [
      "100%|████████████████████████████████████████████████████████████████████████████| 30000/30000 [08:14<00:00, 60.73it/s]\n"
     ]
    },
    {
     "name": "stdout",
     "output_type": "stream",
     "text": [
      "✔️ 저장 완료: 서울_충전소_좌표추가_0_29999.csv\n"
     ]
    }
   ],
   "source": [
    "# API 제한으로 인한 오류로 확인하고 30,000개로 제한해서 호출 후 작업\n",
    "import pandas as pd\n",
    "import requests\n",
    "from concurrent.futures import ThreadPoolExecutor, as_completed\n",
    "from tqdm import tqdm\n",
    "\n",
    "# ✅ 설정: 처리할 구간 지정\n",
    "start_idx = 0        # 시작 인덱스\n",
    "end_idx = 30000      # 종료 인덱스 (30,000건 이하)\n",
    "\n",
    "# ✅ 1. 전체 CSV에서 부분만 불러오기\n",
    "df_all = pd.read_csv(\"서울_충전소.csv\", encoding=\"utf-8-sig\")\n",
    "df = df_all.iloc[start_idx:end_idx].copy() # copy() 쓰는것 중요. copy()안쓰면 df는 df_all의 view가 되어 df 변경 시, df_all도 변경됨\n",
    "\n",
    "# ✅ 2. API 키\n",
    "api_key = \"69e904e85329cddd6795bf2cfe6c576a\"\n",
    "\n",
    "# ✅ 3. 지오코딩 함수 정의\n",
    "def get_lat_lng(address, api_key):\n",
    "    try:\n",
    "        url = \"https://dapi.kakao.com/v2/local/search/address.json\"\n",
    "        headers = {\"Authorization\": f\"KakaoAK {api_key}\"}\n",
    "        params = {\"query\": address}\n",
    "        response = requests.get(url, headers=headers, params=params)\n",
    "\n",
    "        if response.status_code == 200:\n",
    "            result = response.json()\n",
    "            if result['documents']:\n",
    "                location = result['documents'][0]['address']\n",
    "                return location['y'], location['x']\n",
    "        return None, None\n",
    "    except Exception:\n",
    "        return None, None\n",
    "\n",
    "# ✅ 4. 주소 리스트 추출 및 병렬 처리\n",
    "addresses = df[\"주소\"].tolist()\n",
    "lat_list, lng_list = [], []\n",
    "\n",
    "with ThreadPoolExecutor(max_workers=10) as executor:\n",
    "    futures = {executor.submit(get_lat_lng, addr, api_key): addr for addr in addresses}\n",
    "    for future in tqdm(as_completed(futures), total=len(futures)):\n",
    "        lat, lng = future.result()\n",
    "        lat_list.append(lat)\n",
    "        lng_list.append(lng)\n",
    "\n",
    "# ✅ 5. 결과 추가\n",
    "df[\"위도\"] = lat_list\n",
    "df[\"경도\"] = lng_list\n",
    "\n",
    "# ✅ 6. 부분 저장\n",
    "df.to_csv(f\"서울_충전소_좌표추가_{start_idx}_{end_idx - 1}.csv\", index=False, encoding=\"utf-8-sig\")\n",
    "print(f\"✔️ 저장 완료: 서울_충전소_좌표추가_{start_idx}_{end_idx - 1}.csv\")\n"
   ]
  },
  {
   "cell_type": "code",
   "execution_count": 1,
   "id": "109d5a92-a679-4ed2-b3d1-bf6c84179e6e",
   "metadata": {},
   "outputs": [
    {
     "name": "stderr",
     "output_type": "stream",
     "text": [
      "100%|███████████████████████████████████████████████████████████████████████████| 16175/16175 [02:13<00:00, 121.38it/s]"
     ]
    },
    {
     "name": "stdout",
     "output_type": "stream",
     "text": [
      "✔️ 저장 완료: 서울_충전소_좌표추가_2차.csv\n"
     ]
    },
    {
     "name": "stderr",
     "output_type": "stream",
     "text": [
      "\n"
     ]
    }
   ],
   "source": [
    "import pandas as pd\n",
    "import requests\n",
    "from concurrent.futures import ThreadPoolExecutor, as_completed\n",
    "from tqdm import tqdm\n",
    "\n",
    "# 1. CSV 파일 불러오기\n",
    "df = pd.read_csv(\"서울_충전소.csv\", encoding=\"utf-8-sig\")\n",
    "\n",
    "# 2. Kakao REST API 키\n",
    "api_key = \"69e904e85329cddd6795bf2cfe6c576a\"  # 예: \"69e904e85329cddd6795bf2cfe6c576a\"\n",
    "\n",
    "# 3. 주소 → 위도/경도 요청 함수\n",
    "def get_lat_lng(address, api_key):\n",
    "    try:\n",
    "        url = \"https://dapi.kakao.com/v2/local/search/address.json\"\n",
    "        headers = {\"Authorization\": f\"KakaoAK {api_key}\"}\n",
    "        params = {\"query\": address}\n",
    "        response = requests.get(url, headers=headers, params=params)\n",
    "\n",
    "        if response.status_code == 200:\n",
    "            result = response.json()\n",
    "            if result['documents']:\n",
    "                location = result['documents'][0]['address']\n",
    "                return location['y'], location['x']  # 위도(y), 경도(x)\n",
    "        return None, None\n",
    "    except:\n",
    "        return None, None\n",
    "\n",
    "# 4. 전체 주소 중, 30,000번째 이후만 추출\n",
    "addresses = df[\"주소\"].tolist()[30000:]  # 인덱스 30000부터 끝까지\n",
    "\n",
    "# 5. 병렬 처리\n",
    "lat_list, lng_list = [], []\n",
    "\n",
    "with ThreadPoolExecutor(max_workers=10) as executor:\n",
    "    futures = {executor.submit(get_lat_lng, addr, api_key): addr for addr in addresses}\n",
    "\n",
    "    for future in tqdm(as_completed(futures), total=len(futures)):\n",
    "        lat, lng = future.result()\n",
    "        lat_list.append(lat)\n",
    "        lng_list.append(lng)\n",
    "\n",
    "# 6. 부분 결과 DataFrame 생성\n",
    "df_partial = df.iloc[30000:].copy()\n",
    "df_partial[\"위도\"] = lat_list\n",
    "df_partial[\"경도\"] = lng_list\n",
    "\n",
    "# 7. 저장\n",
    "df_partial.to_csv(\"서울_충전소_좌표추가_2차.csv\", index=False, encoding=\"utf-8-sig\")\n",
    "print(\"✔️ 저장 완료: 서울_충전소_좌표추가_2차.csv\")\n"
   ]
  },
  {
   "cell_type": "code",
   "execution_count": 1,
   "id": "05415c88-758b-4212-a21d-4a5b73b4ef0a",
   "metadata": {},
   "outputs": [
    {
     "name": "stdout",
     "output_type": "stream",
     "text": [
      "✔️ 최종 저장 완료: 서울_충전소_좌표추가_전체.csv\n"
     ]
    }
   ],
   "source": [
    "# 벌도의 작업 이후 병합\n",
    "import pandas as pd\n",
    "\n",
    "# 1. 두 CSV 파일 불러오기\n",
    "df1 = pd.read_csv(\"서울_충전소_좌표추가_1차.csv\", encoding=\"utf-8-sig\")\n",
    "df2 = pd.read_csv(\"서울_충전소_좌표추가_2차.csv\", encoding=\"utf-8-sig\")\n",
    "\n",
    "# 2. 병합\n",
    "df_merged = pd.concat([df1, df2], ignore_index=True) # ignore_index를 True 하면 두 인덱스를  합치지 않고, 0, 1, 2...처럼 새로운 연속적인 인덱스를 부여함\n",
    "df_merged = df_merged.drop_duplicates() # drop_duplicates()는 행의 내용이 완전이 동일한 중복된 내용을 제거하고 유일한 내용만 남기는 메서드\n",
    "\n",
    "# 3. 저장\n",
    "df_merged.to_csv(\"서울_충전소_좌표추가_전체.csv\", index=False, encoding=\"utf-8-sig\")\n",
    "print(\"✔️ 최종 저장 완료: 서울_충전소_좌표추가_전체.csv\")\n"
   ]
  },
  {
   "cell_type": "code",
   "execution_count": 3,
   "id": "e76bbfa4-e3a8-48a8-8795-a82202f64d7f",
   "metadata": {},
   "outputs": [
    {
     "name": "stderr",
     "output_type": "stream",
     "text": [
      "100%|█████████████████████████████████████████████████████████████████████████████| 6473/6473 [00:40<00:00, 160.01it/s]"
     ]
    },
    {
     "name": "stdout",
     "output_type": "stream",
     "text": [
      "✔️ 저장 완료: 제주도_충전소_좌표추가_전체.csv\n"
     ]
    },
    {
     "name": "stderr",
     "output_type": "stream",
     "text": [
      "\n"
     ]
    }
   ],
   "source": [
    "import pandas as pd\n",
    "import requests\n",
    "from concurrent.futures import ThreadPoolExecutor, as_completed\n",
    "from tqdm import tqdm\n",
    "\n",
    "# 1. CSV 파일 불러오기\n",
    "df = pd.read_csv(\"제주도_충전소.csv\", encoding=\"utf-8-sig\")\n",
    "\n",
    "# 2. Kakao REST API 키\n",
    "api_key = \"69e904e85329cddd6795bf2cfe6c576a\"  # 예: \"69e904e85329cddd6795bf2cfe6c576a\"\n",
    "\n",
    "# 3. 주소 → 위도/경도 요청 함수\n",
    "def get_lat_lng(address, api_key):\n",
    "    try:\n",
    "        url = \"https://dapi.kakao.com/v2/local/search/address.json\"\n",
    "        headers = {\"Authorization\": f\"KakaoAK {api_key}\"}\n",
    "        params = {\"query\": address}\n",
    "        response = requests.get(url, headers=headers, params=params)\n",
    "\n",
    "        if response.status_code == 200:\n",
    "            result = response.json()\n",
    "            if result['documents']:\n",
    "                location = result['documents'][0]['address']\n",
    "                return location['y'], location['x']  # 위도(y), 경도(x)\n",
    "        return None, None\n",
    "    except:\n",
    "        return None, None\n",
    "\n",
    "# 4. 전체 주소 중, 30,000번째 이후만 추출\n",
    "addresses = df[\"주소\"].tolist()  # 인덱스 \n",
    "\n",
    "# 5. 병렬 처리\n",
    "lat_list, lng_list = [], []\n",
    "\n",
    "with ThreadPoolExecutor(max_workers=10) as executor:\n",
    "    futures = {executor.submit(get_lat_lng, addr, api_key): addr for addr in addresses}\n",
    "\n",
    "    for future in tqdm(as_completed(futures), total=len(futures)):\n",
    "        lat, lng = future.result()\n",
    "        lat_list.append(lat)\n",
    "        lng_list.append(lng)\n",
    "\n",
    "# 6. 부분 결과 DataFrame 생성\n",
    "df[\"위도\"] = lat_list\n",
    "df[\"경도\"] = lng_list\n",
    "\n",
    "# 7. 저장\n",
    "df.to_csv(\"제주도_충전소_좌표추가_전체.csv\", index=False, encoding=\"utf-8-sig\")\n",
    "print(\"✔️ 저장 완료: 제주도_충전소_좌표추가_전체.csv\")"
   ]
  },
  {
   "cell_type": "code",
   "execution_count": 5,
   "id": "373f4312-b6fe-4b62-8485-10ed008b4e63",
   "metadata": {},
   "outputs": [
    {
     "name": "stderr",
     "output_type": "stream",
     "text": [
      "100%|███████████████████████████████████████████████████████████████████████████| 19946/19946 [02:04<00:00, 160.75it/s]\n"
     ]
    },
    {
     "name": "stdout",
     "output_type": "stream",
     "text": [
      "✔️ 저장 완료: 인천광역시_충전소_좌표추가_전체.csv\n"
     ]
    }
   ],
   "source": [
    "import pandas as pd\n",
    "import requests\n",
    "from concurrent.futures import ThreadPoolExecutor, as_completed\n",
    "from tqdm import tqdm\n",
    "\n",
    "# 1. CSV 파일 불러오기\n",
    "df = pd.read_csv(\"인천광역시_충전소.csv\", encoding=\"utf-8-sig\")\n",
    "\n",
    "# 2. Kakao REST API 키\n",
    "api_key = \"69e904e85329cddd6795bf2cfe6c576a\"  # 예: \"69e904e85329cddd6795bf2cfe6c576a\"\n",
    "\n",
    "# 3. 주소 → 위도/경도 요청 함수\n",
    "def get_lat_lng(address, api_key):\n",
    "    try:\n",
    "        url = \"https://dapi.kakao.com/v2/local/search/address.json\"\n",
    "        headers = {\"Authorization\": f\"KakaoAK {api_key}\"}\n",
    "        params = {\"query\": address}\n",
    "        response = requests.get(url, headers=headers, params=params)\n",
    "\n",
    "        if response.status_code == 200:\n",
    "            result = response.json()\n",
    "            if result['documents']:\n",
    "                location = result['documents'][0]['address']\n",
    "                return location['y'], location['x']  # 위도(y), 경도(x)\n",
    "        return None, None\n",
    "    except:\n",
    "        return None, None\n",
    "\n",
    "# 4. 전체 주소 중, 30,000번째 이후만 추출\n",
    "addresses = df[\"주소\"].tolist()  # 인덱스 \n",
    "\n",
    "# 5. 병렬 처리\n",
    "lat_list, lng_list = [], []\n",
    "\n",
    "with ThreadPoolExecutor(max_workers=10) as executor:\n",
    "    futures = {executor.submit(get_lat_lng, addr, api_key): addr for addr in addresses}\n",
    "\n",
    "    for future in tqdm(as_completed(futures), total=len(futures)):\n",
    "        lat, lng = future.result()\n",
    "        lat_list.append(lat)\n",
    "        lng_list.append(lng)\n",
    "\n",
    "# 6. 부분 결과 DataFrame 생성\n",
    "df[\"위도\"] = lat_list\n",
    "df[\"경도\"] = lng_list\n",
    "\n",
    "# 7. 저장\n",
    "df.to_csv(\"인천광역시_충전소_좌표추가_전체.csv\", index=False, encoding=\"utf-8-sig\")\n",
    "print(\"✔️ 저장 완료: 인천광역시_충전소_좌표추가_전체.csv\")"
   ]
  },
  {
   "cell_type": "code",
   "execution_count": null,
   "id": "113195e9-a892-4481-aa4d-c9b0c8084c6e",
   "metadata": {},
   "outputs": [],
   "source": [
    "import pandas as pd\n",
    "import requests\n",
    "from concurrent.futures import ThreadPoolExecutor, as_completed\n",
    "from tqdm import tqdm\n",
    "\n",
    "# 1. CSV 파일 불러오기\n",
    "df = pd.read_csv(\"경기도_충전소.csv\", encoding=\"utf-8-sig\")\n",
    "\n",
    "# 2. Kakao REST API 키\n",
    "api_key = \"Your api key\"  \n",
    "\n",
    "# 3. 주소 → 위도/경도 요청 함수\n",
    "def get_lat_lng(address, api_key):\n",
    "    try:\n",
    "        url = \"https://dapi.kakao.com/v2/local/search/address.json\"\n",
    "        headers = {\"Authorization\": f\"KakaoAK {api_key}\"}\n",
    "        params = {\"query\": address}\n",
    "        response = requests.get(url, headers=headers, params=params)\n",
    "\n",
    "        if response.status_code == 200:\n",
    "            result = response.json()\n",
    "            if result['documents']:\n",
    "                location = result['documents'][0]['address']\n",
    "                return location['y'], location['x']  # 위도(y), 경도(x)\n",
    "        return None, None\n",
    "    except:\n",
    "        return None, None\n",
    "\n",
    "# 4. 전체 주소 중, 30,000번째 이후만 추출\n",
    "addresses = df[\"주소\"].tolist()  # 인덱스 \n",
    "\n",
    "# 5. 병렬 처리\n",
    "lat_list, lng_list = [], []\n",
    "\n",
    "with ThreadPoolExecutor(max_workers=10) as executor:\n",
    "    futures = {executor.submit(get_lat_lng, addr, api_key): addr for addr in addresses}\n",
    "\n",
    "    for future in tqdm(as_completed(futures), total=len(futures)):\n",
    "        lat, lng = future.result()\n",
    "        lat_list.append(lat)\n",
    "        lng_list.append(lng)\n",
    "\n",
    "# 6. 부분 결과 DataFrame 생성\n",
    "df[\"위도\"] = lat_list\n",
    "df[\"경도\"] = lng_list\n",
    "\n",
    "# 7. 저장\n",
    "df.to_csv(\"경기도_충전소_좌표추가_전체.csv\", index=False, encoding=\"utf-8-sig\")\n",
    "print(\"✔️ 저장 완료: 경기도_충전소_좌표추가_전체.csv\")"
   ]
  },
  {
   "cell_type": "code",
   "execution_count": 7,
   "id": "6a9ab42d-27bb-4cda-a05d-4b08b5ef8250",
   "metadata": {
    "collapsed": true,
    "jupyter": {
     "outputs_hidden": true
    }
   },
   "outputs": [
    {
     "name": "stdout",
     "output_type": "stream",
     "text": [
      "Collecting foliumNote: you may need to restart the kernel to use updated packages.\n",
      "\n",
      "  Downloading folium-0.19.5-py2.py3-none-any.whl.metadata (4.1 kB)\n",
      "Collecting branca>=0.6.0 (from folium)\n",
      "  Downloading branca-0.8.1-py3-none-any.whl.metadata (1.5 kB)\n",
      "Requirement already satisfied: jinja2>=2.9 in c:\\temp\\anaconda3\\lib\\site-packages (from folium) (3.1.4)\n",
      "Requirement already satisfied: numpy in c:\\temp\\anaconda3\\lib\\site-packages (from folium) (1.26.4)\n",
      "Requirement already satisfied: requests in c:\\temp\\anaconda3\\lib\\site-packages (from folium) (2.32.3)\n",
      "Requirement already satisfied: xyzservices in c:\\temp\\anaconda3\\lib\\site-packages (from folium) (2022.9.0)\n",
      "Requirement already satisfied: MarkupSafe>=2.0 in c:\\temp\\anaconda3\\lib\\site-packages (from jinja2>=2.9->folium) (2.1.3)\n",
      "Requirement already satisfied: charset-normalizer<4,>=2 in c:\\temp\\anaconda3\\lib\\site-packages (from requests->folium) (3.3.2)\n",
      "Requirement already satisfied: idna<4,>=2.5 in c:\\temp\\anaconda3\\lib\\site-packages (from requests->folium) (3.7)\n",
      "Requirement already satisfied: urllib3<3,>=1.21.1 in c:\\temp\\anaconda3\\lib\\site-packages (from requests->folium) (2.2.3)\n",
      "Requirement already satisfied: certifi>=2017.4.17 in c:\\temp\\anaconda3\\lib\\site-packages (from requests->folium) (2025.1.31)\n",
      "Downloading folium-0.19.5-py2.py3-none-any.whl (110 kB)\n",
      "Downloading branca-0.8.1-py3-none-any.whl (26 kB)\n",
      "Installing collected packages: branca, folium\n",
      "Successfully installed branca-0.8.1 folium-0.19.5\n"
     ]
    }
   ],
   "source": [
    "pip install folium"
   ]
  },
  {
   "cell_type": "code",
   "execution_count": 11,
   "id": "a86f8535-2269-41a1-8821-3ffad0049765",
   "metadata": {
    "collapsed": true,
    "jupyter": {
     "outputs_hidden": true
    }
   },
   "outputs": [
    {
     "data": {
      "text/html": [
       "<div style=\"width:100%;\"><div style=\"position:relative;width:100%;height:0;padding-bottom:60%;\"><span style=\"color:#565656\">Make this Notebook Trusted to load map: File -> Trust Notebook</span><iframe srcdoc=\"&lt;!DOCTYPE html&gt;\n",
       "&lt;html&gt;\n",
       "&lt;head&gt;\n",
       "    \n",
       "    &lt;meta http-equiv=&quot;content-type&quot; content=&quot;text/html; charset=UTF-8&quot; /&gt;\n",
       "    \n",
       "        &lt;script&gt;\n",
       "            L_NO_TOUCH = false;\n",
       "            L_DISABLE_3D = false;\n",
       "        &lt;/script&gt;\n",
       "    \n",
       "    &lt;style&gt;html, body {width: 100%;height: 100%;margin: 0;padding: 0;}&lt;/style&gt;\n",
       "    &lt;style&gt;#map {position:absolute;top:0;bottom:0;right:0;left:0;}&lt;/style&gt;\n",
       "    &lt;script src=&quot;https://cdn.jsdelivr.net/npm/leaflet@1.9.3/dist/leaflet.js&quot;&gt;&lt;/script&gt;\n",
       "    &lt;script src=&quot;https://code.jquery.com/jquery-3.7.1.min.js&quot;&gt;&lt;/script&gt;\n",
       "    &lt;script src=&quot;https://cdn.jsdelivr.net/npm/bootstrap@5.2.2/dist/js/bootstrap.bundle.min.js&quot;&gt;&lt;/script&gt;\n",
       "    &lt;script src=&quot;https://cdnjs.cloudflare.com/ajax/libs/Leaflet.awesome-markers/2.0.2/leaflet.awesome-markers.js&quot;&gt;&lt;/script&gt;\n",
       "    &lt;link rel=&quot;stylesheet&quot; href=&quot;https://cdn.jsdelivr.net/npm/leaflet@1.9.3/dist/leaflet.css&quot;/&gt;\n",
       "    &lt;link rel=&quot;stylesheet&quot; href=&quot;https://cdn.jsdelivr.net/npm/bootstrap@5.2.2/dist/css/bootstrap.min.css&quot;/&gt;\n",
       "    &lt;link rel=&quot;stylesheet&quot; href=&quot;https://netdna.bootstrapcdn.com/bootstrap/3.0.0/css/bootstrap-glyphicons.css&quot;/&gt;\n",
       "    &lt;link rel=&quot;stylesheet&quot; href=&quot;https://cdn.jsdelivr.net/npm/@fortawesome/fontawesome-free@6.2.0/css/all.min.css&quot;/&gt;\n",
       "    &lt;link rel=&quot;stylesheet&quot; href=&quot;https://cdnjs.cloudflare.com/ajax/libs/Leaflet.awesome-markers/2.0.2/leaflet.awesome-markers.css&quot;/&gt;\n",
       "    &lt;link rel=&quot;stylesheet&quot; href=&quot;https://cdn.jsdelivr.net/gh/python-visualization/folium/folium/templates/leaflet.awesome.rotate.min.css&quot;/&gt;\n",
       "    \n",
       "            &lt;meta name=&quot;viewport&quot; content=&quot;width=device-width,\n",
       "                initial-scale=1.0, maximum-scale=1.0, user-scalable=no&quot; /&gt;\n",
       "            &lt;style&gt;\n",
       "                #map_f82b6d4bad90575625e4342c6a2b3088 {\n",
       "                    position: relative;\n",
       "                    width: 100.0%;\n",
       "                    height: 100.0%;\n",
       "                    left: 0.0%;\n",
       "                    top: 0.0%;\n",
       "                }\n",
       "                .leaflet-container { font-size: 1rem; }\n",
       "            &lt;/style&gt;\n",
       "        \n",
       "&lt;/head&gt;\n",
       "&lt;body&gt;\n",
       "    \n",
       "    \n",
       "            &lt;div class=&quot;folium-map&quot; id=&quot;map_f82b6d4bad90575625e4342c6a2b3088&quot; &gt;&lt;/div&gt;\n",
       "        \n",
       "&lt;/body&gt;\n",
       "&lt;script&gt;\n",
       "    \n",
       "    \n",
       "            var map_f82b6d4bad90575625e4342c6a2b3088 = L.map(\n",
       "                &quot;map_f82b6d4bad90575625e4342c6a2b3088&quot;,\n",
       "                {\n",
       "                    center: [37.5665, 126.978],\n",
       "                    crs: L.CRS.EPSG3857,\n",
       "                    ...{\n",
       "  &quot;zoom&quot;: 11,\n",
       "  &quot;zoomControl&quot;: true,\n",
       "  &quot;preferCanvas&quot;: false,\n",
       "}\n",
       "\n",
       "                }\n",
       "            );\n",
       "\n",
       "            \n",
       "\n",
       "        \n",
       "    \n",
       "            var tile_layer_fbffd09122b7d52b662b946d11bc5236 = L.tileLayer(\n",
       "                &quot;https://tile.openstreetmap.org/{z}/{x}/{y}.png&quot;,\n",
       "                {\n",
       "  &quot;minZoom&quot;: 0,\n",
       "  &quot;maxZoom&quot;: 19,\n",
       "  &quot;maxNativeZoom&quot;: 19,\n",
       "  &quot;noWrap&quot;: false,\n",
       "  &quot;attribution&quot;: &quot;\\u0026copy; \\u003ca href=\\&quot;https://www.openstreetmap.org/copyright\\&quot;\\u003eOpenStreetMap\\u003c/a\\u003e contributors&quot;,\n",
       "  &quot;subdomains&quot;: &quot;abc&quot;,\n",
       "  &quot;detectRetina&quot;: false,\n",
       "  &quot;tms&quot;: false,\n",
       "  &quot;opacity&quot;: 1,\n",
       "}\n",
       "\n",
       "            );\n",
       "        \n",
       "    \n",
       "            tile_layer_fbffd09122b7d52b662b946d11bc5236.addTo(map_f82b6d4bad90575625e4342c6a2b3088);\n",
       "        \n",
       "&lt;/script&gt;\n",
       "&lt;/html&gt;\" style=\"position:absolute;width:100%;height:100%;left:0;top:0;border:none !important;\" allowfullscreen webkitallowfullscreen mozallowfullscreen></iframe></div></div>"
      ],
      "text/plain": [
       "<folium.folium.Map at 0x2177a17a540>"
      ]
     },
     "execution_count": 11,
     "metadata": {},
     "output_type": "execute_result"
    }
   ],
   "source": [
    "import folium # folium : python에서 인터렉티브한 웹 지도를 만들 수 있게 해주는 라이브러리\n",
    "\n",
    "# 서울 중심부를 기준으로 초기 지도 설정 (위도, 경도는 너가 원하는 위치로)\n",
    "map = folium.Map(location=[37.5665, 126.9780], zoom_start=11)  # 서울 시청 기준\n",
    "map # jupyternote 환경에서 지도 열기"
   ]
  },
  {
   "cell_type": "code",
   "execution_count": null,
   "id": "f1f884d0-d013-41b6-be06-1a08bf73a94a",
   "metadata": {},
   "outputs": [],
   "source": [
    "import pandas as pd\n",
    "import folium\n",
    "\n",
    "df = pd.read_csv(\"서울_충전소_좌표추가_전체.csv\")\n",
    "df = df.dropna(subset=[\"위도\", \"경도\"]).reset_index(drop=True)  # dropna 이후 reset_index를 통해 인덱스 재설정 해줘야 함!\n",
    "\n",
    "map = folium.Map(location=[df[\"위도\"].mean(), df[\"경도\"].mean()], zoom_start=11)\n",
    "\n",
    "for i in range(len(df)):\n",
    "    lat = df.loc[i, \"위도\"]\n",
    "    lng = df.loc[i, \"경도\"]\n",
    "    name = df.loc[i, \"충전소명\"] if \"충전소명\" in df.columns else f\"충전소 {i+1}\"\n",
    "\n",
    "    folium.CircleMarker(\n",
    "        location=[lat, lng],\n",
    "        radius=0.5,\n",
    "        color=\"red\",\n",
    "        fill=True,\n",
    "        fill_color=\"red\",\n",
    "        fill_opacity=0.7,\n",
    "        popup=name\n",
    "    ).add_to(map)\n",
    "\n",
    "map.save(\"서울_충전소_지도.html\")  # 결과를 HTML로 저장해 웹에서 볼 수 있게 함"
   ]
  },
  {
   "cell_type": "markdown",
   "id": "78def273-efb6-41e4-bec8-af24d38f3e8d",
   "metadata": {},
   "source": [
    "## 결측값(NaN) 제거"
   ]
  },
  {
   "cell_type": "code",
   "execution_count": 13,
   "id": "b47dbca2-07ae-4a75-9c5b-5a3beadfe17b",
   "metadata": {},
   "outputs": [],
   "source": [
    "\n",
    "regions = [\"서울\", \"경기도\", \"인천광역시\", \"제주도\"]\n",
    "\n",
    "for region in regions:\n",
    "    file_path = f\"{region}_충전소_좌표추가_전체.csv\"\n",
    "    df = pd.read_csv(file_path)\n",
    "    df_cleaned = df.dropna(subset=[\"위도\", \"경도\"]).reset_index(drop=True)\n",
    "    df_cleaned.to_csv(f\"{region}_충전소_좌표추가_전체_cleaned.csv\", index=False, encoding='utf-8-sig')\n",
    "\n"
   ]
  },
  {
   "cell_type": "markdown",
   "id": "eabee299-42ed-4384-affa-bb304d0925b6",
   "metadata": {},
   "source": [
    "## 지도에 전체 데이터셋(서울/경기/인천/제주) 표현"
   ]
  },
  {
   "cell_type": "code",
   "execution_count": 17,
   "id": "429e9a27-e3e3-42a8-a007-a919b79aecb1",
   "metadata": {},
   "outputs": [],
   "source": [
    "import pandas as pd\n",
    "import folium\n",
    "\n",
    "df = pd.read_csv(\"경기도_충전소_좌표추가_전체_cleaned.csv\")\n",
    "\n",
    "map = folium.Map(location=[df[\"위도\"].mean(), df[\"경도\"].mean()], zoom_start=11)\n",
    "\n",
    "for i in range(len(df)):\n",
    "    lat = df.loc[i, \"위도\"]\n",
    "    lng = df.loc[i, \"경도\"]\n",
    "    name = df.loc[i, \"충전소명\"] if \"충전소명\" in df.columns else f\"충전소 {i+1}\"\n",
    "\n",
    "    folium.CircleMarker(\n",
    "        location=[lat, lng],\n",
    "        radius=0.3,\n",
    "        color=\"red\",\n",
    "        fill=True,\n",
    "        fill_color=\"red\",\n",
    "        fill_opacity=0.7,\n",
    "        popup=name\n",
    "    ).add_to(map)\n",
    "\n",
    "map.save(\"경기도_충전소_지도.html\")  # 결과를 HTML로 저장해 웹에서 볼 수 있게 함"
   ]
  },
  {
   "cell_type": "code",
   "execution_count": 21,
   "id": "62d9665c-b635-4d46-a567-d68cf171689d",
   "metadata": {},
   "outputs": [],
   "source": [
    "import pandas as pd\n",
    "import folium\n",
    "\n",
    "df = pd.read_csv(\"인천광역시_충전소_좌표추가_전체_cleaned.csv\")\n",
    "\n",
    "# folium.Map(): folium 라이브러리 새로운 지도 객체 생성 함수\n",
    "map = folium.Map(location=[df[\"위도\"].mean(), df[\"경도\"].mean()], zoom_start=11) # 초기 html 파일 open시, 줌 설정\n",
    "\n",
    "for i in range(len(df)):\n",
    "    lat = df.loc[i, \"위도\"]\n",
    "    lng = df.loc[i, \"경도\"]\n",
    "    name = df.loc[i, \"충전소명\"] if \"충전소명\" in df.columns else f\"충전소 {i+1}\"\n",
    "\n",
    "    folium.CircleMarker(\n",
    "        location=[lat, lng],\n",
    "        radius=0.3,\n",
    "        color=\"red\",\n",
    "        fill=True,\n",
    "        fill_color=\"red\",\n",
    "        fill_opacity=0.7,\n",
    "        popup=name\n",
    "    ).add_to(map)\n",
    "\n",
    "map.save(\"인천광역시_충전소_지도.html\")  # 결과를 HTML로 저장해 웹에서 볼 수 있게 함"
   ]
  },
  {
   "cell_type": "markdown",
   "id": "778c3fa4-9cc7-463d-8dea-f232ba285fb6",
   "metadata": {},
   "source": [
    "## 전체 충전소 지도 데이터셋 합치기"
   ]
  },
  {
   "cell_type": "code",
   "execution_count": 24,
   "id": "cdc4588e-f7b7-4e64-9753-01f7a07b668b",
   "metadata": {},
   "outputs": [
    {
     "name": "stdout",
     "output_type": "stream",
     "text": [
      "✔️ 병합 완료: 전국_충전소_좌표통합.csv\n"
     ]
    }
   ],
   "source": [
    "import pandas as pd\n",
    "\n",
    "# 병합할 파일 경로 목록\n",
    "file_paths = [\n",
    "    \"서울_충전소_좌표추가_전체_cleaned.csv\",\n",
    "    \"경기도_충전소_좌표추가_전체_cleaned.csv\",\n",
    "    \"인천광역시_충전소_좌표추가_전체_cleaned.csv\",\n",
    "    \"제주도_충전소_좌표추가_전체_cleaned.csv\"\n",
    "]\n",
    "\n",
    "# 각 파일을 읽어서 리스트에 저장\n",
    "dfs = [pd.read_csv(path, encoding=\"utf-8-sig\") for path in file_paths]\n",
    "\n",
    "# 데이터프레임 병합\n",
    "merged_df = pd.concat(dfs, ignore_index=True)\n",
    "\n",
    "# 중복 제거 및 인덱스 초기화\n",
    "merged_df = merged_df.drop_duplicates().reset_index(drop=True)\n",
    "\n",
    "# 병합 결과 저장 (선택사항)\n",
    "merged_df.to_csv(\"전국_충전소_좌표통합.csv\", index=False, encoding=\"utf-8-sig\")\n",
    "\n",
    "print(\"✔️ 병합 완료: 전국_충전소_좌표통합.csv\")\n"
   ]
  },
  {
   "cell_type": "markdown",
   "id": "50e9d8c5-0412-42a9-963e-8a8ab29fa792",
   "metadata": {},
   "source": [
    "## 전체 데이터셋 지도 표시"
   ]
  },
  {
   "cell_type": "code",
   "execution_count": 27,
   "id": "3840fd01-3be4-48bc-856e-f24233ae079f",
   "metadata": {},
   "outputs": [],
   "source": [
    "import pandas as pd\n",
    "import folium\n",
    "\n",
    "df = pd.read_csv(\"전국_충전소_좌표통합.csv\")\n",
    "\n",
    "map = folium.Map(location=[df[\"위도\"].mean(), df[\"경도\"].mean()], zoom_start=11)\n",
    "\n",
    "for i in range(len(df)):\n",
    "    lat = df.loc[i, \"위도\"]\n",
    "    lng = df.loc[i, \"경도\"]\n",
    "    name = df.loc[i, \"충전소명\"] if \"충전소명\" in df.columns else f\"충전소 {i+1}\"\n",
    "\n",
    "    folium.CircleMarker(\n",
    "        location=[lat, lng],\n",
    "        radius=0.3,\n",
    "        color=\"red\",\n",
    "        fill=True,\n",
    "        fill_color=\"red\",\n",
    "        fill_opacity=0.2,\n",
    "        popup=name\n",
    "    ).add_to(map)\n",
    "\n",
    "map.save(\"전국_충전소_지도.html\")  # 결과를 HTML로 저장해 웹에서 볼 수 있게 함"
   ]
  },
  {
   "cell_type": "code",
   "execution_count": null,
   "id": "33a0ed63-d3bb-45f0-96d2-32778152d30f",
   "metadata": {},
   "outputs": [],
   "source": []
  },
  {
   "cell_type": "code",
   "execution_count": null,
   "id": "e828606d-d343-4e10-b9db-8249baeb75c3",
   "metadata": {},
   "outputs": [],
   "source": []
  },
  {
   "cell_type": "code",
   "execution_count": null,
   "id": "789ba728-a1b5-45a1-a68b-982d939a73d2",
   "metadata": {},
   "outputs": [],
   "source": []
  },
  {
   "cell_type": "code",
   "execution_count": null,
   "id": "06a0edd5-3834-4bff-b50f-cc3f9c6bc10b",
   "metadata": {},
   "outputs": [],
   "source": []
  },
  {
   "cell_type": "code",
   "execution_count": null,
   "id": "0eff671b-fc9c-4db2-8b69-0ad726704de9",
   "metadata": {},
   "outputs": [],
   "source": []
  },
  {
   "cell_type": "code",
   "execution_count": null,
   "id": "653bf55e-e67d-46b5-9941-c23c4103e920",
   "metadata": {},
   "outputs": [],
   "source": []
  },
  {
   "cell_type": "code",
   "execution_count": null,
   "id": "396ad736-45a1-4851-a118-15003f0b0534",
   "metadata": {},
   "outputs": [],
   "source": []
  },
  {
   "cell_type": "code",
   "execution_count": null,
   "id": "b9af9d9e-7a94-4d1a-9b8b-b9a07dade550",
   "metadata": {},
   "outputs": [],
   "source": []
  },
  {
   "cell_type": "code",
   "execution_count": null,
   "id": "f0b51554-4935-41d1-a2d5-7d3253379e57",
   "metadata": {},
   "outputs": [],
   "source": []
  }
 ],
 "metadata": {
  "kernelspec": {
   "display_name": "Python [conda env:base] *",
   "language": "python",
   "name": "conda-base-py"
  },
  "language_info": {
   "codemirror_mode": {
    "name": "ipython",
    "version": 3
   },
   "file_extension": ".py",
   "mimetype": "text/x-python",
   "name": "python",
   "nbconvert_exporter": "python",
   "pygments_lexer": "ipython3",
   "version": "3.12.7"
  }
 },
 "nbformat": 4,
 "nbformat_minor": 5
}
